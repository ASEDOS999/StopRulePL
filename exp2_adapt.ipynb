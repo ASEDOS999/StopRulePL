{
 "cells": [
  {
   "cell_type": "markdown",
   "metadata": {
    "slideshow": {
     "slide_type": "slide"
    }
   },
   "source": [
    "# Experiments 2.2. Quadratic Programming and Adaptive GD\n",
    "\n",
    "Minimization of function\n",
    "\n",
    "$$f(x)=\\sum\\limits_{i=k}^N d_i x_i^2$$\n",
    "for positive $d_i$."
   ]
  },
  {
   "cell_type": "code",
   "execution_count": 1,
   "metadata": {},
   "outputs": [],
   "source": [
    "import numpy as np\n",
    "import os\n",
    "import matplotlib\n",
    "import matplotlib.pyplot as plt\n",
    "import jax\n",
    "import jax.numpy as jnp\n",
    "from jax.config import config\n",
    "import timeit\n",
    "%matplotlib inline"
   ]
  },
  {
   "cell_type": "code",
   "execution_count": 2,
   "metadata": {},
   "outputs": [],
   "source": [
    "from methods import gradf_inexact\n",
    "from methods import GradientDescent, parse_logs, AdaptiveL, StepSize, AdaptiveNoiseGD\n",
    "from methods import ConstantStepSize, AdaptiveLdelta"
   ]
  },
  {
   "cell_type": "code",
   "execution_count": 3,
   "metadata": {},
   "outputs": [],
   "source": [
    "matplotlib.use('Agg')\n",
    "params = {'legend.fontsize': 20,\n",
    "          'legend.handlelength': 4,\n",
    "          \"axes.labelsize\": 45,\n",
    "          \"xtick.labelsize\": 25,\n",
    "          \"ytick.labelsize\": 25,\n",
    "          \"lines.linewidth\": 2,\n",
    "           \"axes.titlesize\":30}\n",
    "matplotlib.rcParams.update(params)"
   ]
  },
  {
   "cell_type": "code",
   "execution_count": 4,
   "metadata": {},
   "outputs": [],
   "source": [
    "config.update(\"jax_enable_x64\", True)"
   ]
  },
  {
   "cell_type": "code",
   "execution_count": 5,
   "metadata": {},
   "outputs": [],
   "source": [
    "path_pics = \"../pics/\""
   ]
  },
  {
   "cell_type": "code",
   "execution_count": 12,
   "metadata": {},
   "outputs": [],
   "source": [
    "def f1(x, A):\n",
    "    m = A.shape[0]\n",
    "    r = A@x\n",
    "    return 1/2 * x.T @ A @ x\n",
    "\n",
    "gradf = jax.grad(f1, argnums=0, has_aux=False)\n",
    "jit_gradf = jax.jit(gradf)"
   ]
  },
  {
   "cell_type": "markdown",
   "metadata": {},
   "source": [
    "## 1. Comparison of Theoretical Iterations Count and Practice"
   ]
  },
  {
   "cell_type": "code",
   "execution_count": 13,
   "metadata": {
    "scrolled": true
   },
   "outputs": [],
   "source": [
    "np.random.seed(1)\n",
    "n = 100\n",
    "k = 10\n",
    "mu = 0.1\n",
    "d = np.zeros(n)\n",
    "d[:k] *= 0\n",
    "d[k:] = np.linspace(mu, 1, n-k)\n",
    "A = np.diag(d)\n",
    "w = np.random.randn(n)"
   ]
  },
  {
   "cell_type": "code",
   "execution_count": 14,
   "metadata": {
    "scrolled": false
   },
   "outputs": [
    {
     "data": {
      "text/plain": [
       "(1.0, 0.1)"
      ]
     },
     "execution_count": 14,
     "metadata": {},
     "output_type": "execute_result"
    }
   ],
   "source": [
    "eigvals, _ = np.linalg.eigh(A)\n",
    "eigvals.sort()\n",
    "L = np.real(eigvals.max())\n",
    "mu = eigvals[eigvals>=1e-12].min()\n",
    "L, mu"
   ]
  },
  {
   "cell_type": "code",
   "execution_count": 15,
   "metadata": {},
   "outputs": [],
   "source": [
    "sigma=0\n",
    "gradf = lambda x: np.array(jit_gradf(x, A).block_until_ready())\n",
    "f = lambda x: f1(x, A)"
   ]
  },
  {
   "cell_type": "code",
   "execution_count": 16,
   "metadata": {
    "scrolled": false
   },
   "outputs": [
    {
     "data": {
      "text/plain": [
       "0.0"
      ]
     },
     "execution_count": 16,
     "metadata": {},
     "output_type": "execute_result"
    }
   ],
   "source": [
    "w = np.random.randn(n)\n",
    "f(np.zeros(A.shape[-1]))"
   ]
  },
  {
   "cell_type": "markdown",
   "metadata": {},
   "source": [
    "The case when $\\xi \\sim \\mathcal{U}(S_1(0))$"
   ]
  },
  {
   "cell_type": "code",
   "execution_count": 18,
   "metadata": {
    "scrolled": false
   },
   "outputs": [
    {
     "name": "stdout",
     "output_type": "stream",
     "text": [
      "0.01 948.6832980505138\n",
      "\t1e-07\t636\t275.10\t948.683296\t2.01 1.8128103488210294e-12\n",
      "\t1e-07\t1524\t139.59\t948.683296\t2.34 2.543456392812393e-12\n",
      "\n",
      "\t0.0001\t404\t181.18\t948.681255\t2.04 1.8803343398275588e-06\n",
      "\t0.0001\t836\t78.32\t948.680896\t2.37 2.612430284126672e-06\n",
      "\n",
      "\t0.1\t74\t35.83\t946.485034\t2.30 1.9286178623074106\n",
      "\t0.1\t153\t14.99\t946.162836\t2.39 2.495032779695113\n",
      "\n",
      "0.1 948.6832980505138\n",
      "\t1e-07\t72\t31.53\t948.683298\t1.90 1.388992588827616e-13\n",
      "\t1e-07\t169\t16.24\t948.683298\t2.17 2.2143446868839264e-13\n",
      "\n",
      "\t0.0001\t46\t19.52\t948.683042\t2.14 1.8793328098142807e-07\n",
      "\t0.0001\t105\t10.38\t948.683037\t1.95 1.7353273851737082e-07\n",
      "\n",
      "\t0.1\t20\t9.13\t948.358430\t1.80 0.1358948280284843\n",
      "\t0.1\t41\t4.51\t948.256841\t2.15 0.201168925125588\n",
      "\n",
      "0.9 948.6832980505138\n",
      "\t1e-07\t11\t3.99\t948.683298\t0.92 4.533954798214249e-15\n",
      "\t1e-07\t11\t1.61\t948.683298\t0.93 4.5816913820042315e-15\n",
      "\n",
      "\t0.0001\t8\t3.25\t948.683277\t0.95 4.808811377156842e-09\n",
      "\t0.0001\t8\t1.29\t948.683283\t0.86 3.935524413057705e-09\n",
      "\n",
      "\t0.1\t5\t1.90\t948.663202\t0.88 0.0041037493999516814\n",
      "\t0.1\t5\t0.90\t948.665368\t0.99 0.005182879750972282\n",
      "\n",
      "0.99 948.6832980505138\n",
      "\t1e-07\t6\t2.45\t948.683298\t0.94 4.401157757122699e-15\n",
      "\t1e-07\t6\t1.04\t948.683298\t0.99 4.9391519944242114e-15\n",
      "\n",
      "\t0.0001\t5\t2.02\t948.683291\t0.93 4.3350815799662646e-09\n",
      "\t0.0001\t5\t0.90\t948.683304\t0.94 4.397203778244009e-09\n",
      "\n",
      "\t0.1\t3\t1.10\t948.648797\t0.99 0.004906139391862472\n",
      "\t0.1\t3\t0.52\t948.653538\t1.02 0.005220601200153737\n",
      "\n"
     ]
    }
   ],
   "source": [
    "np.random.seed(1)\n",
    "np.random.seed(1)\n",
    "n = 100\n",
    "k = 10\n",
    "mu_list = [0.01, 0.1, 0.9, 0.99]\n",
    "res = {mu:{\"delta\":[], \n",
    "           \"iters_adaptL\":[], \"time_adaptL\":[], \"adaptL,x0-x*\": [], \"normg_adaptL\": [], \"residual_adaptL\":[],\n",
    "           \"iters_exact\":[], \"time_exact\":[], \"exact,x0-x*\": [], \"normg_exact\": [], \"residual_exact\":[], \n",
    "          \"iters_adaptLdelta\":[], \"time_adaptLdelta\":[], \"adaptLdelta,x0-x*\": [], \"normg_adaptLdelta\": []} for mu in mu_list}\n",
    "dist = {}\n",
    "number = 200\n",
    "\n",
    "for mu in mu_list:\n",
    "    d = np.zeros(n)\n",
    "    d[:k] *= 0\n",
    "    d[k:] = np.linspace(mu, 1, n-k)\n",
    "    A = np.diag(d)\n",
    "    w = np.random.randn(n)\n",
    "    sigma=0\n",
    "    eigvals, _ = np.linalg.eigh(A)\n",
    "    eigvals.sort()\n",
    "    L = np.real(eigvals.max())\n",
    "    mu = eigvals[eigvals>=1e-12].min()\n",
    "    L, mu\n",
    "    gradf = lambda x: np.array(jit_gradf(x, A).block_until_ready())\n",
    "    f = lambda x: f1(x, A)\n",
    "    f(np.zeros(A.shape[-1]))\n",
    "    alpha = 1/L\n",
    "    w = np.ones(n)*100\n",
    "    wsol = np.where(d!=0, 0, w)\n",
    "    dist[mu] = np.linalg.norm(w-wsol)\n",
    "    v = np.random.randn(*w.shape)\n",
    "    v = np.ones(*w.shape)\n",
    "    Delta_list = [1e-7, 1e-4, 1e-1]\n",
    "    N = int(2e4)\n",
    "    save_iter = int(1)\n",
    "    tol = 1e-9\n",
    "    methods = []\n",
    "    print(mu, dist[mu])\n",
    "\n",
    "    for Delta in Delta_list:\n",
    "        eps = Delta**2 / 16\n",
    "        f2 = lambda x: f(x) + eps*np.random.uniform(-1, 1)\n",
    "        res[mu][\"delta\"].append(int(np.log10(Delta)))\n",
    "        tol = np.sqrt(6)*Delta\n",
    "\n",
    "        grad_inexact = lambda w: gradf_inexact(w, gradf, Delta, 1, v=v)\n",
    "        method = GradientDescent(AdaptiveL(L0=1, Delta=Delta, Lmin=mu/4, delta=eps), name=\"GD, Delta={}\".format(Delta), save_iter=save_iter)\n",
    "        x = method.solve(w, f2, grad_inexact, tol=tol, max_iter=N)\n",
    "        g = lambda: GradientDescent(AdaptiveL(L0=1, Delta=Delta, Lmin=mu/4, delta=eps),\n",
    "                                    return_history=False).solve(w, f2, grad_inexact, tol=tol, max_iter=N)\n",
    "        T = timeit.timeit(g, number=number)/number        \n",
    "        print(\"\\t{}\\t{}\\t{:.2f}\\t{:.6f}\\t{:.2f}\".format(Delta, len(method.history), T*1000, np.linalg.norm(x-w), \n",
    "                                                np.linalg.norm(gradf(x))/Delta), f(x))\n",
    "        methods.append(method)\n",
    "        res[mu][\"iters_adaptL\"].append(len(method.history))\n",
    "        res[mu][\"time_adaptL\"].append(\"{:.2f}\".format(T*1000))\n",
    "        res[mu][\"adaptL,x0-x*\"].append(\"{:.1f}\".format(np.linalg.norm(x-w)))\n",
    "        res[mu][\"normg_adaptL\"].append(\"{:.2f}\".format(np.linalg.norm(gradf(x))/Delta))\n",
    "        res[mu][\"residual_adaptL\"].append(f(x))\n",
    "\n",
    "\n",
    "#         method = AdaptiveNoiseGD(AdaptiveLdelta(L0=1, mindelta=1e-12, Lmin=mu/4, mu=mu), name=\"GD, Delta={}\".format(Delta), save_iter=save_iter, alpha=np.sqrt(6))\n",
    "#         x = method.solve(w, f, grad_inexact, max_iter=N)\n",
    "#         g = lambda: AdaptiveNoiseGD(AdaptiveLdelta(L0=1, mindelta=1e-12, Lmin=mu/4, mu=mu), return_history=False, \n",
    "#                                     alpha=np.sqrt(6)).solve(w, f, grad_inexact, max_iter=N)\n",
    "#         T = timeit.timeit(g, number=number)/number        \n",
    "#         print(\"\\t{}\\t{}\\t{:.2f}\\t{:.6f}\\t{:.2f}\".format(Delta, len(method.history), T*1000, np.linalg.norm(x-w), \n",
    "#                                                 np.linalg.norm(gradf(x))/Delta))\n",
    "#         methods.append(method)\n",
    "#         res[mu][\"iters_adaptLdelta\"].append(len(method.history))\n",
    "#         res[mu][\"time_adaptLdelta\"].append(\"{:.2f}\".format(T*1000))\n",
    "#         res[mu][\"adaptLdelta,x0-x*\"].append(\"{:.1f}\".format(np.linalg.norm(x-w)))\n",
    "#         res[mu][\"normg_adaptLdelta\"].append(\"{:.2f}\".format(np.linalg.norm(gradf(x))/Delta))        \n",
    "\n",
    "        method = GradientDescent(ConstantStepSize(alpha), name=\"GD, Delta={}\".format(Delta), save_iter=save_iter)\n",
    "        x = method.solve(w, f, grad_inexact, tol=tol, max_iter=N)\n",
    "        g = lambda: GradientDescent(ConstantStepSize(alpha),\n",
    "                                    return_history=False).solve(w, f, grad_inexact, tol=tol, max_iter=N)\n",
    "        T = timeit.timeit(g, number=number)/number\n",
    "        print(\"\\t{}\\t{}\\t{:.2f}\\t{:.6f}\\t{:.2f}\".format(Delta, len(method.history), T*1000, np.linalg.norm(x-w), \n",
    "                                                np.linalg.norm(gradf(x))/Delta), f(x))\n",
    "        methods.append(method)\n",
    "        res[mu][\"iters_exact\"].append(len(method.history))\n",
    "        res[mu][\"time_exact\"].append(\"{:.2f}\".format(T*1000))\n",
    "        res[mu][\"exact,x0-x*\"].append(\"{:.1f}\".format(np.linalg.norm(x-w)))\n",
    "        res[mu][\"normg_exact\"].append(\"{:.2f}\".format(np.linalg.norm(gradf(x))/Delta))\n",
    "        res[mu][\"residual_exact\"].append(f(x))\n",
    "        print()"
   ]
  },
  {
   "cell_type": "code",
   "execution_count": 21,
   "metadata": {},
   "outputs": [
    {
     "name": "stdout",
     "output_type": "stream",
     "text": [
      "0.01 & \\begin{tabular}{@{}c@{}} $10^{-7}$ \\\\ $10^{-4}$ \\\\ $10^{-1}$ \\end{tabular}&\\begin{tabular}{@{}c@{}} $1524$ \\\\ $836$ \\\\ $153$ \\end{tabular}&\\begin{tabular}{@{}c@{}} $139.59$ \\\\ $78.32$ \\\\ $14.99$ \\end{tabular}&\\begin{tabular}{@{}c@{}} $636$ \\\\ $404$ \\\\ $74$ \\end{tabular}&\\begin{tabular}{@{}c@{}} $275.10$ \\\\ $181.18$ \\\\ $35.83$ \\end{tabular}\\\\\n",
      "\\hline\n",
      "0.1 & \\begin{tabular}{@{}c@{}} $10^{-7}$ \\\\ $10^{-4}$ \\\\ $10^{-1}$ \\end{tabular}&\\begin{tabular}{@{}c@{}} $169$ \\\\ $105$ \\\\ $41$ \\end{tabular}&\\begin{tabular}{@{}c@{}} $16.24$ \\\\ $10.38$ \\\\ $4.51$ \\end{tabular}&\\begin{tabular}{@{}c@{}} $72$ \\\\ $46$ \\\\ $20$ \\end{tabular}&\\begin{tabular}{@{}c@{}} $31.53$ \\\\ $19.52$ \\\\ $9.13$ \\end{tabular}\\\\\n",
      "\\hline\n",
      "0.9 & \\begin{tabular}{@{}c@{}} $10^{-7}$ \\\\ $10^{-4}$ \\\\ $10^{-1}$ \\end{tabular}&\\begin{tabular}{@{}c@{}} $11$ \\\\ $8$ \\\\ $5$ \\end{tabular}&\\begin{tabular}{@{}c@{}} $1.61$ \\\\ $1.29$ \\\\ $0.90$ \\end{tabular}&\\begin{tabular}{@{}c@{}} $11$ \\\\ $8$ \\\\ $5$ \\end{tabular}&\\begin{tabular}{@{}c@{}} $3.99$ \\\\ $3.25$ \\\\ $1.90$ \\end{tabular}\\\\\n",
      "\\hline\n",
      "0.99 & \\begin{tabular}{@{}c@{}} $10^{-7}$ \\\\ $10^{-4}$ \\\\ $10^{-1}$ \\end{tabular}&\\begin{tabular}{@{}c@{}} $6$ \\\\ $5$ \\\\ $3$ \\end{tabular}&\\begin{tabular}{@{}c@{}} $1.04$ \\\\ $0.90$ \\\\ $0.52$ \\end{tabular}&\\begin{tabular}{@{}c@{}} $6$ \\\\ $5$ \\\\ $3$ \\end{tabular}&\\begin{tabular}{@{}c@{}} $2.45$ \\\\ $2.02$ \\\\ $1.10$ \\end{tabular}\\\\\n",
      "\\hline\n",
      "\n"
     ]
    }
   ],
   "source": [
    "s = \"\"\n",
    "\n",
    "for mu in mu_list:\n",
    "    s += str(mu) + \" & \"\n",
    "    cur_list = [\"$10^{{{}}}$\".format(i) for i in res[mu][\"delta\"]]\n",
    "    s+= \"\\\\begin{tabular}{@{}c@{}} \" + \" \\\\\\\\ \".join(cur_list) + \" \\\\end{tabular}&\"\n",
    "    \n",
    "    cur_list = [\"${}$\".format(i) for i in res[mu][\"iters_exact\"]]\n",
    "    s+= \"\\\\begin{tabular}{@{}c@{}} \" + \" \\\\\\\\ \".join(cur_list) + \" \\\\end{tabular}&\"\n",
    "    cur_list = [\"${}$\".format(i) for i in res[mu][\"time_exact\"]]\n",
    "    s+= \"\\\\begin{tabular}{@{}c@{}} \" + \" \\\\\\\\ \".join(cur_list) + \" \\\\end{tabular}&\"\n",
    "\n",
    "    cur_list = [\"${}$\".format(i) for i in res[mu][\"iters_adaptL\"]]\n",
    "    s+= \"\\\\begin{tabular}{@{}c@{}} \" + \" \\\\\\\\ \".join(cur_list) + \" \\\\end{tabular}&\"\n",
    "    cur_list = [\"${}$\".format(i) for i in res[mu][\"time_adaptL\"]]\n",
    "    s+= \"\\\\begin{tabular}{@{}c@{}} \" + \" \\\\\\\\ \".join(cur_list) + \" \\\\end{tabular}\"\n",
    "    \n",
    "#     cur_list = [\"${}$\".format(i) for i in res[mu][\"iters_adaptLdelta\"]]\n",
    "#     s+= \"\\\\begin{tabular}{@{}c@{}} \" + \" \\\\\\\\ \".join(cur_list) + \" \\\\end{tabular}&\"\n",
    "#     cur_list = [\"${}$\".format(i) for i in res[mu][\"time_adaptLdelta\"]]\n",
    "#     s+= \"\\\\begin{tabular}{@{}c@{}} \" + \" \\\\\\\\ \".join(cur_list) + \" \\\\end{tabular}\"\n",
    "\n",
    "    s+= \"\\\\\\\\\\n\\\\hline\\n\"\n",
    "print(s)"
   ]
  },
  {
   "cell_type": "code",
   "execution_count": 25,
   "metadata": {},
   "outputs": [
    {
     "name": "stdout",
     "output_type": "stream",
     "text": [
      "0.01 & \\begin{tabular}{@{}c@{}} $10^{-7}$ \\\\ $10^{-4}$ \\\\ $10^{-1}$ \\end{tabular}&\\begin{tabular}{@{}c@{}} $948.7$ \\\\ $948.7$ \\\\ $946.2$ \\end{tabular}&\\begin{tabular}{@{}c@{}} $2.34$ \\\\ $2.37$ \\\\ $2.39$ \\end{tabular}&\\begin{tabular}{@{}c@{}} $0.25 \\cdot 10^{-11}$ \\\\ $0.26 \\cdot 10^{-5}$ \\\\ $2.50$ \\end{tabular}&\\begin{tabular}{@{}c@{}} $948.7$ \\\\ $948.7$ \\\\ $946.5$ \\end{tabular}&\\begin{tabular}{@{}c@{}} $2.01$ \\\\ $2.04$ \\\\ $2.30$ \\end{tabular}&\\begin{tabular}{@{}c@{}} $0.18 \\cdot 10^{-11}$ \\\\ $0.19 \\cdot 10^{-5}$ \\\\ $1.93$ \\end{tabular}\\\\\n",
      "\\hline\n",
      "0.1 & \\begin{tabular}{@{}c@{}} $10^{-7}$ \\\\ $10^{-4}$ \\\\ $10^{-1}$ \\end{tabular}&\\begin{tabular}{@{}c@{}} $948.7$ \\\\ $948.7$ \\\\ $948.3$ \\end{tabular}&\\begin{tabular}{@{}c@{}} $2.17$ \\\\ $1.95$ \\\\ $2.15$ \\end{tabular}&\\begin{tabular}{@{}c@{}} $0.22 \\cdot 10^{-12}$ \\\\ $0.17 \\cdot 10^{-6}$ \\\\ $0.20$ \\end{tabular}&\\begin{tabular}{@{}c@{}} $948.7$ \\\\ $948.7$ \\\\ $948.4$ \\end{tabular}&\\begin{tabular}{@{}c@{}} $1.90$ \\\\ $2.14$ \\\\ $1.80$ \\end{tabular}&\\begin{tabular}{@{}c@{}} $0.14 \\cdot 10^{-12}$ \\\\ $0.19 \\cdot 10^{-6}$ \\\\ $0.14$ \\end{tabular}\\\\\n",
      "\\hline\n",
      "0.9 & \\begin{tabular}{@{}c@{}} $10^{-7}$ \\\\ $10^{-4}$ \\\\ $10^{-1}$ \\end{tabular}&\\begin{tabular}{@{}c@{}} $948.7$ \\\\ $948.7$ \\\\ $948.7$ \\end{tabular}&\\begin{tabular}{@{}c@{}} $0.93$ \\\\ $0.86$ \\\\ $0.99$ \\end{tabular}&\\begin{tabular}{@{}c@{}} $0.46 \\cdot 10^{-14}$ \\\\ $0.39 \\cdot 10^{-8}$ \\\\ $0.52 \\cdot 10^{-2}$ \\end{tabular}&\\begin{tabular}{@{}c@{}} $948.7$ \\\\ $948.7$ \\\\ $948.7$ \\end{tabular}&\\begin{tabular}{@{}c@{}} $0.92$ \\\\ $0.95$ \\\\ $0.88$ \\end{tabular}&\\begin{tabular}{@{}c@{}} $0.45 \\cdot 10^{-14}$ \\\\ $0.48 \\cdot 10^{-8}$ \\\\ $0.41 \\cdot 10^{-2}$ \\end{tabular}\\\\\n",
      "\\hline\n",
      "0.99 & \\begin{tabular}{@{}c@{}} $10^{-7}$ \\\\ $10^{-4}$ \\\\ $10^{-1}$ \\end{tabular}&\\begin{tabular}{@{}c@{}} $948.7$ \\\\ $948.7$ \\\\ $948.7$ \\end{tabular}&\\begin{tabular}{@{}c@{}} $0.99$ \\\\ $0.94$ \\\\ $1.02$ \\end{tabular}&\\begin{tabular}{@{}c@{}} $0.49 \\cdot 10^{-14}$ \\\\ $0.44 \\cdot 10^{-8}$ \\\\ $0.52 \\cdot 10^{-2}$ \\end{tabular}&\\begin{tabular}{@{}c@{}} $948.7$ \\\\ $948.7$ \\\\ $948.6$ \\end{tabular}&\\begin{tabular}{@{}c@{}} $0.94$ \\\\ $0.93$ \\\\ $0.99$ \\end{tabular}&\\begin{tabular}{@{}c@{}} $0.44 \\cdot 10^{-14}$ \\\\ $0.43 \\cdot 10^{-8}$ \\\\ $0.49 \\cdot 10^{-2}$ \\end{tabular}\\\\\n",
      "\\hline\n",
      "\n"
     ]
    }
   ],
   "source": [
    "s = \"\"\n",
    "\n",
    "for mu in mu_list:\n",
    "    s += str(mu) + \" & \"\n",
    "    #s += \"{:.1f}\".format(dist[mu]) + \" & \"\n",
    "    cur_list = [\"$10^{{{}}}$\".format(i) for i in res[mu][\"delta\"]]\n",
    "    \n",
    "    s+= \"\\\\begin{tabular}{@{}c@{}} \" + \" \\\\\\\\ \".join(cur_list) + \" \\\\end{tabular}&\"\n",
    "    cur_list = [\"${}$\".format(i) for i in res[mu][\"exact,x0-x*\"]]\n",
    "    s+= \"\\\\begin{tabular}{@{}c@{}} \" + \" \\\\\\\\ \".join(cur_list) + \" \\\\end{tabular}&\"\n",
    "    cur_list = [\"${}$\".format(i) for i in res[mu][\"normg_exact\"]]\n",
    "    s+= \"\\\\begin{tabular}{@{}c@{}} \" + \" \\\\\\\\ \".join(cur_list) + \" \\\\end{tabular}&\"\n",
    "    cur_list1 = [(i/10**(int(np.log10(i))), int(np.log10(i))) for i in res[mu][\"residual_exact\"]]\n",
    "    cur_list = []\n",
    "    for a, b in cur_list1:\n",
    "        if b != 0:\n",
    "            cur_list.append(\"${:.2f} \\\\cdot 10^{{{}}}$\".format(a, b))\n",
    "        else:\n",
    "            cur_list.append(\"${:.2f}$\".format(a))\n",
    "    s+= \"\\\\begin{tabular}{@{}c@{}} \" + \" \\\\\\\\ \".join(cur_list) + \" \\\\end{tabular}&\"\n",
    "    \n",
    "\n",
    "    cur_list = [\"${}$\".format(i) for i in res[mu][\"adaptL,x0-x*\"]]\n",
    "    s+= \"\\\\begin{tabular}{@{}c@{}} \" + \" \\\\\\\\ \".join(cur_list) + \" \\\\end{tabular}&\"\n",
    "    cur_list = [\"${}$\".format(i) for i in res[mu][\"normg_adaptL\"]]\n",
    "    s+= \"\\\\begin{tabular}{@{}c@{}} \" + \" \\\\\\\\ \".join(cur_list) + \" \\\\end{tabular}&\"\n",
    "    cur_list1 = [(i/10**(int(np.log10(i))), int(np.log10(i))) for i in res[mu][\"residual_adaptL\"]]\n",
    "    cur_list = []\n",
    "    for a, b in cur_list1:\n",
    "        if b != 0:\n",
    "            cur_list.append(\"${:.2f} \\\\cdot 10^{{{}}}$\".format(a, b))\n",
    "        else:\n",
    "            cur_list.append(\"${:.2f}$\".format(a))\n",
    "    s+= \"\\\\begin{tabular}{@{}c@{}} \" + \" \\\\\\\\ \".join(cur_list) + \" \\\\end{tabular}\"\n",
    "    \n",
    "#     cur_list = [\"${}$\".format(i) for i in res[mu][\"adaptLdelta,x0-x*\"]]\n",
    "#     s+= \"\\\\begin{tabular}{@{}c@{}} \" + \" \\\\\\\\ \".join(cur_list) + \" \\\\end{tabular}&\"\n",
    "#     cur_list = [\"${}$\".format(i) for i in res[mu][\"normg_adaptLdelta\"]]\n",
    "#     s+= \"\\\\begin{tabular}{@{}c@{}} \" + \" \\\\\\\\ \".join(cur_list) + \" \\\\end{tabular}\"\n",
    "\n",
    "    s+= \"\\\\\\\\\\n\\\\hline\\n\"\n",
    "print(s)"
   ]
  },
  {
   "cell_type": "code",
   "execution_count": null,
   "metadata": {},
   "outputs": [],
   "source": []
  }
 ],
 "metadata": {
  "anaconda-cloud": {},
  "kernelspec": {
   "display_name": "Python 3",
   "language": "python",
   "name": "python3"
  },
  "language_info": {
   "codemirror_mode": {
    "name": "ipython",
    "version": 3
   },
   "file_extension": ".py",
   "mimetype": "text/x-python",
   "name": "python",
   "nbconvert_exporter": "python",
   "pygments_lexer": "ipython3",
   "version": "3.7.3"
  }
 },
 "nbformat": 4,
 "nbformat_minor": 1
}
