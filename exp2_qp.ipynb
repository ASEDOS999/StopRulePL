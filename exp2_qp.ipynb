{
 "cells": [
  {
   "cell_type": "markdown",
   "metadata": {
    "slideshow": {
     "slide_type": "slide"
    }
   },
   "source": [
    "# Experiments 2. Quadratic Programming\n",
    "\n",
    "Minimization of function\n",
    "\n",
    "$$f(x)=\\sum\\limits_{i=k}^N d_i x_i^2$$\n",
    "for positive $d_i$."
   ]
  },
  {
   "cell_type": "code",
   "execution_count": 1,
   "metadata": {},
   "outputs": [],
   "source": [
    "import numpy as np\n",
    "import os\n",
    "import matplotlib\n",
    "import matplotlib.pyplot as plt\n",
    "import jax\n",
    "import jax.numpy as jnp\n",
    "from jax.config import config\n",
    "%matplotlib inline"
   ]
  },
  {
   "cell_type": "code",
   "execution_count": 2,
   "metadata": {},
   "outputs": [],
   "source": [
    "from methods import gradf_inexact\n",
    "from methods import GradientDescent, parse_logs\n",
    "from methods import ConstantStepSize"
   ]
  },
  {
   "cell_type": "code",
   "execution_count": 3,
   "metadata": {},
   "outputs": [],
   "source": [
    "matplotlib.use('Agg')\n",
    "params = {'legend.fontsize': 20,\n",
    "          'legend.handlelength': 4,\n",
    "          \"axes.labelsize\": 45,\n",
    "          \"xtick.labelsize\": 25,\n",
    "          \"ytick.labelsize\": 25,\n",
    "          \"lines.linewidth\": 2,\n",
    "           \"axes.titlesize\":30}\n",
    "matplotlib.rcParams.update(params)"
   ]
  },
  {
   "cell_type": "code",
   "execution_count": 4,
   "metadata": {},
   "outputs": [],
   "source": [
    "config.update(\"jax_enable_x64\", True)"
   ]
  },
  {
   "cell_type": "code",
   "execution_count": 5,
   "metadata": {},
   "outputs": [],
   "source": [
    "path_pics = \"../pics/\""
   ]
  },
  {
   "cell_type": "code",
   "execution_count": 6,
   "metadata": {},
   "outputs": [],
   "source": [
    "def f1(x, A):\n",
    "    m = A.shape[0]\n",
    "    r = A@x\n",
    "    return 1/2 * x.T @ A @ x\n",
    "\n",
    "gradf = jax.grad(f1, argnums=0, has_aux=False)\n",
    "jit_gradf = jax.jit(gradf)"
   ]
  },
  {
   "cell_type": "markdown",
   "metadata": {},
   "source": [
    "## 1. Comparison of Theoretical Iterations Count and Practice"
   ]
  },
  {
   "cell_type": "code",
   "execution_count": 7,
   "metadata": {
    "scrolled": true
   },
   "outputs": [],
   "source": [
    "np.random.seed(1)\n",
    "n = 100\n",
    "k = 10\n",
    "mu = 0.1\n",
    "d = np.zeros(n)\n",
    "d[:k] *= 0\n",
    "d[k:] = np.linspace(mu, 1, n-k)\n",
    "A = np.diag(d)\n",
    "w = np.random.randn(n)"
   ]
  },
  {
   "cell_type": "code",
   "execution_count": 8,
   "metadata": {
    "scrolled": false
   },
   "outputs": [
    {
     "data": {
      "text/plain": [
       "(1.0, 0.1)"
      ]
     },
     "execution_count": 8,
     "metadata": {},
     "output_type": "execute_result"
    }
   ],
   "source": [
    "eigvals, _ = np.linalg.eigh(A)\n",
    "eigvals.sort()\n",
    "L = np.real(eigvals.max())\n",
    "mu = eigvals[eigvals>=1e-12].min()\n",
    "L, mu"
   ]
  },
  {
   "cell_type": "code",
   "execution_count": 9,
   "metadata": {},
   "outputs": [],
   "source": [
    "sigma=0\n",
    "gradf = lambda x: np.array(jit_gradf(x, A).block_until_ready())\n",
    "f = lambda x: f1(x, A)"
   ]
  },
  {
   "cell_type": "code",
   "execution_count": 10,
   "metadata": {
    "scrolled": false
   },
   "outputs": [
    {
     "data": {
      "text/plain": [
       "0.0"
      ]
     },
     "execution_count": 10,
     "metadata": {},
     "output_type": "execute_result"
    }
   ],
   "source": [
    "w = np.random.randn(n)\n",
    "f(np.zeros(A.shape[-1]))"
   ]
  },
  {
   "cell_type": "markdown",
   "metadata": {},
   "source": [
    "The case when $\\xi \\sim \\mathcal{U}(S_1(0))$"
   ]
  },
  {
   "cell_type": "code",
   "execution_count": 11,
   "metadata": {
    "scrolled": false
   },
   "outputs": [
    {
     "name": "stderr",
     "output_type": "stream",
     "text": [
      "WARNING:absl:No GPU/TPU found, falling back to CPU. (Set TF_CPP_MIN_LOG_LEVEL=0 and rerun for more info.)\n"
     ]
    },
    {
     "name": "stdout",
     "output_type": "stream",
     "text": [
      "0.01\n",
      "\t1e-07\t1528\t3817\t2.50\n",
      "\t0.0001\t841\t2436\t2.90\n",
      "\t0.1\t155\t1054\t6.80\n",
      "0.1\n",
      "\t1e-07\t169\t406\t2.40\n",
      "\t0.0001\t104\t267\t2.57\n",
      "\t0.1\t40\t129\t3.23\n",
      "0.9\n",
      "\t1e-07\t10\t48\t4.80\n",
      "\t0.0001\t8\t33\t4.12\n",
      "\t0.1\t5\t17\t3.40\n",
      "0.99\n",
      "\t1e-07\t6\t44\t7.33\n",
      "\t0.0001\t5\t30\t6.00\n",
      "\t0.1\t3\t16\t5.33\n"
     ]
    }
   ],
   "source": [
    "np.random.seed(1)\n",
    "np.random.seed(1)\n",
    "n = 100\n",
    "k = 10\n",
    "mu_list = [0.01, 0.1, 0.9, 0.99]\n",
    "res = {mu:{\"delta\":[], \"iters\":[], \"N\":[]} for mu in mu_list}\n",
    "for mu in mu_list:\n",
    "    d = np.zeros(n)\n",
    "    d[:k] *= 0\n",
    "    d[k:] = np.linspace(mu, 1, n-k)\n",
    "    A = np.diag(d)\n",
    "    w = np.random.randn(n)\n",
    "    sigma=0\n",
    "    eigvals, _ = np.linalg.eigh(A)\n",
    "    eigvals.sort()\n",
    "    L = np.real(eigvals.max())\n",
    "    mu = eigvals[eigvals>=1e-12].min()\n",
    "    L, mu\n",
    "    print(mu)\n",
    "    gradf = lambda x: np.array(jit_gradf(x, A).block_until_ready())\n",
    "    f = lambda x: f1(x, A)\n",
    "    f(np.zeros(A.shape[-1]))\n",
    "    alpha = 1/L\n",
    "    w = np.ones(n)*100\n",
    "    v = np.random.randn(*w.shape)\n",
    "    Delta_list = [1e-7, 1e-4, 1e-1]\n",
    "    N = int(2e4)\n",
    "    save_iter = int(1)\n",
    "    tol = 1e-9\n",
    "    methods = []\n",
    "    for Delta in Delta_list:\n",
    "        tol = np.sqrt(6)*Delta\n",
    "        if Delta > 0:\n",
    "            N_star = int(L/mu * np.log(mu*f(w)/(6*Delta**2)) + 0.5)\n",
    "        else:\n",
    "            N_star = np.inf\n",
    "        grad_inexact = lambda w: gradf_inexact(w, gradf, Delta, 1, v=v)\n",
    "        method = GradientDescent(ConstantStepSize(alpha), name=\"GD, Delta={}\".format(Delta), save_iter=save_iter)\n",
    "        x = method.solve(w, f, grad_inexact, tol=tol, max_iter=N)\n",
    "        print(\"\\t{}\\t{}\\t{}\\t{:.2f}\".format(Delta, len(method.history), N_star, N_star/len(method.history)))\n",
    "        methods.append(method)\n",
    "        res[mu][\"delta\"].append(int(np.log10(Delta)))\n",
    "        res[mu][\"iters\"].append(len(method.history))\n",
    "        res[mu][\"N\"].append(N_star)"
   ]
  },
  {
   "cell_type": "code",
   "execution_count": 12,
   "metadata": {},
   "outputs": [
    {
     "name": "stdout",
     "output_type": "stream",
     "text": [
      "0.01 & \\begin{tabular}{@{}c@{}} $10^{-7}$ \\\\ $10^{-4}$ \\\\ $10^{-1}$ \\end{tabular}&\\begin{tabular}{@{}c@{}} $1528$ \\\\ $841$ \\\\ $155$ \\end{tabular}&\\begin{tabular}{@{}c@{}} $3817$ \\\\ $2436$ \\\\ $1054$ \\end{tabular}\\\\\n",
      "\\hline\n",
      "0.1 & \\begin{tabular}{@{}c@{}} $10^{-7}$ \\\\ $10^{-4}$ \\\\ $10^{-1}$ \\end{tabular}&\\begin{tabular}{@{}c@{}} $169$ \\\\ $104$ \\\\ $40$ \\end{tabular}&\\begin{tabular}{@{}c@{}} $406$ \\\\ $267$ \\\\ $129$ \\end{tabular}\\\\\n",
      "\\hline\n",
      "0.9 & \\begin{tabular}{@{}c@{}} $10^{-7}$ \\\\ $10^{-4}$ \\\\ $10^{-1}$ \\end{tabular}&\\begin{tabular}{@{}c@{}} $10$ \\\\ $8$ \\\\ $5$ \\end{tabular}&\\begin{tabular}{@{}c@{}} $48$ \\\\ $33$ \\\\ $17$ \\end{tabular}\\\\\n",
      "\\hline\n",
      "0.99 & \\begin{tabular}{@{}c@{}} $10^{-7}$ \\\\ $10^{-4}$ \\\\ $10^{-1}$ \\end{tabular}&\\begin{tabular}{@{}c@{}} $6$ \\\\ $5$ \\\\ $3$ \\end{tabular}&\\begin{tabular}{@{}c@{}} $44$ \\\\ $30$ \\\\ $16$ \\end{tabular}\\\\\n",
      "\\hline\n",
      "\n"
     ]
    }
   ],
   "source": [
    "s = \"\"\n",
    "for mu in mu_list:\n",
    "    s += str(mu) + \" & \"\n",
    "    cur_list = [\"$10^{{{}}}$\".format(i) for i in res[mu][\"delta\"]]\n",
    "    s+= \"\\\\begin{tabular}{@{}c@{}} \" + \" \\\\\\\\ \".join(cur_list) + \" \\\\end{tabular}&\"\n",
    "    cur_list = [\"${}$\".format(i) for i in res[mu][\"iters\"]]\n",
    "    s+= \"\\\\begin{tabular}{@{}c@{}} \" + \" \\\\\\\\ \".join(cur_list) + \" \\\\end{tabular}&\"\n",
    "    cur_list = [\"${}$\".format(i) for i in res[mu][\"N\"]]\n",
    "    s+= \"\\\\begin{tabular}{@{}c@{}} \" + \" \\\\\\\\ \".join(cur_list) + \" \\\\end{tabular}\"\n",
    "    s+= \"\\\\\\\\\\n\\\\hline\\n\"\n",
    "print(s)"
   ]
  },
  {
   "cell_type": "markdown",
   "metadata": {},
   "source": [
    "## 2. Trajectory Visualisation for Different Noise Types"
   ]
  },
  {
   "cell_type": "code",
   "execution_count": 13,
   "metadata": {},
   "outputs": [],
   "source": [
    "def f1(x, A):\n",
    "    m = A.shape[0]\n",
    "    r = A@x\n",
    "    return 1/2 * x.T @ A @ x\n",
    "\n",
    "gradf = jax.grad(f1, argnums=0, has_aux=False)\n",
    "jit_gradf = jax.jit(gradf)"
   ]
  },
  {
   "cell_type": "code",
   "execution_count": 127,
   "metadata": {},
   "outputs": [],
   "source": [
    "np.random.seed(1)\n",
    "n = 2\n",
    "k = 1\n",
    "d = np.array([0.05, 1])\n",
    "A = np.diag(d)\n",
    "w = np.random.randn(n)"
   ]
  },
  {
   "cell_type": "code",
   "execution_count": 128,
   "metadata": {
    "scrolled": true
   },
   "outputs": [
    {
     "data": {
      "text/plain": [
       "(1.0, 1.7357257185673867, 0.05)"
      ]
     },
     "execution_count": 128,
     "metadata": {},
     "output_type": "execute_result"
    }
   ],
   "source": [
    "eigvals, _ = np.linalg.eigh(A)\n",
    "eigvals.sort()\n",
    "L = np.real(eigvals.max())\n",
    "mu = eigvals[eigvals>=1e-12].min()\n",
    "L, np.linalg.norm(w), mu"
   ]
  },
  {
   "cell_type": "code",
   "execution_count": 129,
   "metadata": {},
   "outputs": [],
   "source": [
    "sigma=0\n",
    "gradf = lambda x: np.array(jit_gradf(x, A).block_until_ready())\n",
    "f = lambda x: f1(x, A)"
   ]
  },
  {
   "cell_type": "code",
   "execution_count": 130,
   "metadata": {
    "scrolled": false
   },
   "outputs": [
    {
     "data": {
      "text/plain": [
       "0.0"
      ]
     },
     "execution_count": 130,
     "metadata": {},
     "output_type": "execute_result"
    }
   ],
   "source": [
    "w = np.random.randn(n)\n",
    "f(np.zeros(A.shape[-1]))"
   ]
  },
  {
   "cell_type": "markdown",
   "metadata": {},
   "source": [
    "The case when $\\xi \\sim \\mathcal{U}(S_1(0))$"
   ]
  },
  {
   "cell_type": "code",
   "execution_count": 139,
   "metadata": {
    "scrolled": false
   },
   "outputs": [
    {
     "name": "stdout",
     "output_type": "stream",
     "text": [
      "0 3.4553834916836345e-12 1.1939675074599785e-22 6.910766983367269e-11 502 [6.91076698e-11 0.00000000e+00]\n",
      "1 0.030049304505714892 0.008346702618054739 0.5766301205562847 56 [0.57656779 0.00847848]\n",
      "3 0.033761821495731204 0.011398605907096175 0.6752364299146241 60 [6.7523643e-01 2.4172017e-66]\n",
      "4 0.017758121641336395 0.002678508842285 0.325868614155153 61 [ 0.32579189 -0.00707107]\n"
     ]
    }
   ],
   "source": [
    "np.random.seed(1)\n",
    "alpha = 1/L\n",
    "#alpha = 1e-1\n",
    "w = np.ones(n)\n",
    "w = np.array([10, 0.1])\n",
    "v = np.ones(n)\n",
    "Delta_list = [0, 1e-12]\n",
    "N = int(500)\n",
    "save_iter = int(1)\n",
    "tol = 0\n",
    "methods = []\n",
    "Delta = 1e-6\n",
    "\n",
    "Delta = 0\n",
    "tol = np.sqrt(6)*Delta\n",
    "method = GradientDescent(ConstantStepSize(alpha), name=\"Exact\", save_iter=save_iter)\n",
    "x = method.solve(w, f, lambda w: gradf_inexact(w, gradf, Delta, 4, v=v), tol=tol, max_iter=N)\n",
    "print(Delta, np.linalg.norm(gradf(x)), f(x), np.linalg.norm(x), len(method.history), x)\n",
    "methods.append(method)\n",
    "Delta = 1e-2\n",
    "grad_name = {1:\"random inexactness\",3:\"-gradient\",4:\"constant inexactness\",}\n",
    "for dtype in [1,3,4]:\n",
    "    tol = np.sqrt(6)*Delta\n",
    "    method = GradientDescent(ConstantStepSize(alpha), name=\"{}\".format(grad_name[dtype]), save_iter=save_iter)\n",
    "    x = method.solve(w, f, lambda w: gradf_inexact(w, gradf, Delta, dtype, v=v), tol=tol, max_iter=N)\n",
    "    print(dtype, np.linalg.norm(gradf(x)), f(x), np.linalg.norm(x), len(method.history), x)\n",
    "    methods.append(method)"
   ]
  },
  {
   "cell_type": "code",
   "execution_count": 141,
   "metadata": {},
   "outputs": [
    {
     "data": {
      "image/png": "[encoded data removed]",
      "text/plain": [
       "<Figure size 576x576 with 1 Axes>"
      ]
     },
     "metadata": {
      "needs_background": "light"
     },
     "output_type": "display_data"
    }
   ],
   "source": [
    "%matplotlib inline\n",
    "l = 100\n",
    "x, y = np.mgrid[0:l,\n",
    "                0:l]\n",
    "\n",
    "startx = 0\n",
    "endx = 10\n",
    "starty = -0.04\n",
    "endy = 0.1\n",
    "\n",
    "x = x * (endx-startx)/(l-1)+startx\n",
    "y = y * (endy-starty)/(l-1)+starty\n",
    "\n",
    "\n",
    "z = np.zeros((l, l))\n",
    "for i in range(100):\n",
    "    for j in range(100):\n",
    "        z[i, j] = f(np.array([x[i, j], y[i, j]]))\n",
    "fig, ax = plt.subplots()\n",
    "ax.contourf(x, y, z, levels=50)\n",
    "\n",
    "\n",
    "color = [\"r\", \"y\", \"green\", \"b\"]\n",
    "for indm, method in enumerate(methods):\n",
    "    xhistory = method.history\n",
    "    x_list = np.array([x for x, _ in xhistory])\n",
    "    plt.plot(x_list[:, 0], x_list[:, 1], color=color[indm], label=method.name)\n",
    "    for ind in range(len(x_list)-1):\n",
    "        x, y = x_list[ind, 0], x_list[ind,1]\n",
    "        dx, dy = x_list[ind+1, 0] - x_list[ind, 0], x_list[ind+1,1] - x_list[ind,1]\n",
    "        if ind % 10 == 0:\n",
    "            head_width=0.0003\n",
    "        else:\n",
    "            head_width=0\n",
    "        ax.arrow(x, y, dx, dy, color=color[indm], head_width=head_width, width=0.00003)\n",
    "plt.legend()\n",
    "fig.set_figwidth(8)    #  ширина и\n",
    "fig.set_figheight(8)    #  высота \"Figure\"\n",
    "\n",
    "plt.xlim(startx, endx)\n",
    "plt.ylim(starty, endy)\n",
    "plt.savefig(os.path.join(path_pics, \"lines.png\"))"
   ]
  },
  {
   "cell_type": "code",
   "execution_count": null,
   "metadata": {},
   "outputs": [],
   "source": []
  }
 ],
 "metadata": {
  "anaconda-cloud": {},
  "kernelspec": {
   "display_name": "Python 3",
   "language": "python",
   "name": "python3"
  },
  "language_info": {
   "codemirror_mode": {
    "name": "ipython",
    "version": 3
   },
   "file_extension": ".py",
   "mimetype": "text/x-python",
   "name": "python",
   "nbconvert_exporter": "python",
   "pygments_lexer": "ipython3",
   "version": "3.7.3"
  }
 },
 "nbformat": 4,
 "nbformat_minor": 1
}
