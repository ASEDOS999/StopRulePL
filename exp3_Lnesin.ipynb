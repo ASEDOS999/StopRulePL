{
 "cells": [
  {
   "cell_type": "markdown",
   "metadata": {
    "slideshow": {
     "slide_type": "slide"
    }
   },
   "source": [
    "# Experiments 1. Non-linear Equation System: sinus\n",
    "\n",
    "We will minimize\n",
    "\n",
    "$$f(w_1, w_2) = \\sum\\limits_{i=1}^d \\left(\\sum\\limits_{j=1}^n A_{ij} sin(x_j)+\\sum\\limits_{j=1}^n B_{ij} cos(x_j) - E_i\\right)^2$$\n",
    "\n",
    "for $w_1, w_2\\in\\mathbb{R}^n$, $x_i \\in \\mathbb{R}^n$, $d\\leq n$ with the condition\n",
    "\n",
    "$$XX^\\top \\succeq \\mu I_d,$$\n",
    "where $X = (x_1 \\dots x_d)^\\top \\in \\mathbb{R}^{d\\times n}$"
   ]
  },
  {
   "cell_type": "code",
   "execution_count": 1,
   "metadata": {},
   "outputs": [],
   "source": [
    "import numpy as np\n",
    "import os\n",
    "import matplotlib\n",
    "import matplotlib.pyplot as plt\n",
    "import jax\n",
    "import jax.numpy as jnp\n",
    "import timeit\n",
    "from jax.config import config"
   ]
  },
  {
   "cell_type": "code",
   "execution_count": 2,
   "metadata": {},
   "outputs": [],
   "source": [
    "from methods import gradf_inexact\n",
    "from methods import GradientDescent, parse_logs, AdaptiveL, StepSize, AdaptiveNoiseGD\n",
    "from methods import ConstantStepSize, AdaptiveLdelta"
   ]
  },
  {
   "cell_type": "code",
   "execution_count": 3,
   "metadata": {},
   "outputs": [],
   "source": [
    "matplotlib.use('Agg')\n",
    "params = {'legend.fontsize': 20,\n",
    "          'legend.handlelength': 4,\n",
    "          \"axes.labelsize\": 45,\n",
    "          \"xtick.labelsize\": 25,\n",
    "          \"ytick.labelsize\": 25,\n",
    "          \"lines.linewidth\": 2,\n",
    "           \"axes.titlesize\":30}\n",
    "matplotlib.rcParams.update(params)"
   ]
  },
  {
   "cell_type": "code",
   "execution_count": 4,
   "metadata": {},
   "outputs": [],
   "source": [
    "config.update(\"jax_enable_x64\", True)"
   ]
  },
  {
   "cell_type": "code",
   "execution_count": 5,
   "metadata": {},
   "outputs": [],
   "source": [
    "path_pics = \"../pics/\""
   ]
  },
  {
   "cell_type": "code",
   "execution_count": 6,
   "metadata": {},
   "outputs": [],
   "source": [
    "def f1(x, A, B, E):\n",
    "    z = A @ jnp.sin(x) + B @ jnp.cos(x) - E\n",
    "    return jnp.square(z).sum()\n",
    "\n",
    "gradf = jax.grad(f1, argnums=0, has_aux=False)\n",
    "jit_gradf = jax.jit(gradf)"
   ]
  },
  {
   "cell_type": "markdown",
   "metadata": {},
   "source": [
    "## 0. Dataset"
   ]
  },
  {
   "cell_type": "code",
   "execution_count": 7,
   "metadata": {},
   "outputs": [
    {
     "name": "stdout",
     "output_type": "stream",
     "text": [
      "1.343483389066623e-13 1.3434833890666234e-13\n",
      "160.8743141323397 165.1667700151294\n"
     ]
    },
    {
     "data": {
      "text/plain": [
       "(0.03184654272322745, 1749.1678647445826, 54924.89027604298)"
      ]
     },
     "execution_count": 7,
     "metadata": {},
     "output_type": "execute_result"
    }
   ],
   "source": [
    "d = 40\n",
    "n = 100\n",
    "A = np.random.randn(n, n)\n",
    "Q, _ = np.linalg.qr(A)\n",
    "eps = 0.01\n",
    "A = np.random.randn(d, d) @ Q[:d]\n",
    "B = np.random.randn(d, d) @ Q[d:2*d]\n",
    "xsol = np.random.randn(n)\n",
    "E = A @ np.sin(xsol) + B @ np.cos(xsol)\n",
    "print(np.linalg.norm(A @ B.T), np.linalg.norm(B @ A.T))\n",
    "eigA = np.linalg.eig(A@A.T)[0]\n",
    "eigB = np.linalg.eig(B@B.T)[0]\n",
    "print(eigA.max(), eigB.max())\n",
    "mu = min(min(eigA),min(eigB))\n",
    "L = 8 * np.linalg.svd(np.hstack([A, B]))[1].max()**2\n",
    "mu, L, L/mu"
   ]
  },
  {
   "cell_type": "code",
   "execution_count": 8,
   "metadata": {},
   "outputs": [],
   "source": [
    "def params(A, B, E):\n",
    "    gradf = jax.grad(f1, argnums=0, has_aux=False)\n",
    "    jit_gradf = jax.jit(gradf)\n",
    "    gradf = lambda x: np.array(jit_gradf(x, A, B, E).block_until_ready())\n",
    "    f = lambda x: f1(x, A, B, E)\n",
    "    return f, gradf\n",
    "f, gradf = params(A, B, E)"
   ]
  },
  {
   "cell_type": "code",
   "execution_count": 9,
   "metadata": {
    "scrolled": false
   },
   "outputs": [
    {
     "name": "stderr",
     "output_type": "stream",
     "text": [
      "WARNING:absl:No GPU/TPU found, falling back to CPU. (Set TF_CPP_MIN_LOG_LEVEL=0 and rerun for more info.)\n"
     ]
    },
    {
     "data": {
      "text/plain": [
       "(0.0, 508.6507378950872, (100,))"
      ]
     },
     "execution_count": 9,
     "metadata": {},
     "output_type": "execute_result"
    }
   ],
   "source": [
    "f(xsol).item(), f(np.zeros(n)).item(), gradf(xsol).shape"
   ]
  },
  {
   "cell_type": "markdown",
   "metadata": {},
   "source": [
    "## 1. Noise Distributed on the Unit Sphere\n",
    "\n",
    "The case when $\\xi \\sim \\mathcal{U}(S_1(0))$"
   ]
  },
  {
   "cell_type": "code",
   "execution_count": 10,
   "metadata": {},
   "outputs": [
    {
     "data": {
      "text/plain": [
       "218.64598309307283"
      ]
     },
     "execution_count": 10,
     "metadata": {},
     "output_type": "execute_result"
    }
   ],
   "source": [
    "np.linalg.svd(np.hstack([A, B]))[1].max()**2"
   ]
  },
  {
   "cell_type": "code",
   "execution_count": 11,
   "metadata": {},
   "outputs": [
    {
     "name": "stdout",
     "output_type": "stream",
     "text": [
      "8\t213823.36290220183\n",
      "32\t51279411.44256377\n",
      "128\t1347207780.9634402\n"
     ]
    }
   ],
   "source": [
    "Delta_list = [1e-7, 1e-4, 1e-1]\n",
    "Delta_list = []\n",
    "\n",
    "v = np.random.randn(n)\n",
    "d_list = [8, 32, 128]\n",
    "n = 256\n",
    "np.random.seed(1)\n",
    "for d in d_list:\n",
    "    Q, _ = np.linalg.qr(np.random.randn(n, n))\n",
    "    A = np.random.rand(d, d) @ Q[:d]\n",
    "    B = np.random.rand(d, d) @ Q[d:2*d]\n",
    "    xsol = np.random.randn(n)\n",
    "    E = A @ np.sin(xsol) + B @ np.cos(xsol)\n",
    "    eigA = np.linalg.eig(A@A.T)[0]\n",
    "    eigB = np.linalg.eig(B@B.T)[0]\n",
    "    mu = min(min(eigA),min(eigB))\n",
    "    L = 8 * np.sqrt(2) * np.linalg.svd(np.hstack([A, B]))[1].max()**2\n",
    "    print(\"{}\\t{}\".format(d, L/mu))"
   ]
  },
  {
   "cell_type": "code",
   "execution_count": null,
   "metadata": {
    "scrolled": false
   },
   "outputs": [
    {
     "name": "stdout",
     "output_type": "stream",
     "text": [
      "8 213823.36290220183\n",
      "\t0.0001\t14434\t2077.46\t5.061611\t2.41\t0.00\n",
      "\t0.0001\t1200002\t-\t5.061851\t0.02\t0.00\n",
      "\t0.0001\t511\t368.31\t5.068131\t2.13\t0.00\n",
      "\t0.0001\t305\t680.67\t5.073089\t3.39\t5.6286486632738874e-08\n",
      "\n",
      "\n",
      "\t0.1\t1466\t211.58\t4.764349\t2.39\t0.06\n",
      "\t0.1\t1200002\t-\t5.073001\t0.01\t0.00\n",
      "\t0.1\t57\t41.09\t4.807924\t2.11\t0.05\n",
      "\t0.1\t61\t143.02\t4.925778\t2.42\t0.02343341229557334\n",
      "\n",
      "\n",
      "32 7820634.808934757\n",
      "\t0.0001\t96928\t14296.45\t6.320197\t2.41\t0.00\n",
      "\t0.0001\t1200002\t-\t6.320283\t0.01\t0.00\n",
      "\t0.0001\t3663\t2713.97\t6.323062\t2.23\t0.00\n",
      "\t0.0001\t1442\t3330.17\t6.335391\t4.87\t3.097702785656707e-08\n",
      "\n",
      "\n",
      "\t0.1\t14999\t2194.08\t6.202960\t2.38\t0.04\n"
     ]
    }
   ],
   "source": [
    "Delta_list = [1e-4, 1e-1]\n",
    "\n",
    "v = np.random.randn(n)\n",
    "d_list = [8, 32, 128]\n",
    "n = 256\n",
    "\n",
    "res = {d:{\"delta\":[], \n",
    "           \"iters_adaptL\":[], \"time_adaptL\":[], \"adaptL,x0-x*\": [], \"normg_adaptL\": [],\n",
    "           \"iters_exact\":[], \"time_exact\":[], \"exact,x0-x*\": [], \"normg_exact\": [],\n",
    "          \"iters_adaptLdelta\":[], \"time_adaptLdelta\":[], \"adaptLdelta,x0-x*\": [], \"normg_adaptLdelta\": [],\n",
    "         \"additer,x0-x*\":[], \"normg_additer\":[]} for d in d_list}\n",
    "mu_list = {}\n",
    "number = 1\n",
    "save_iter = 1\n",
    "N = int(1.2e6)\n",
    "methods = []\n",
    "np.random.seed(1)\n",
    "for d in d_list:\n",
    "    Q, _ = np.linalg.qr(np.random.randn(n, n))\n",
    "    A = np.random.rand(d, d) @ Q[:d]\n",
    "    B = np.random.rand(d, d) @ Q[d:2*d]\n",
    "    xsol = np.random.randn(n)\n",
    "    E = A @ np.sin(xsol) + B @ np.cos(xsol)\n",
    "    eigA = np.linalg.eig(A@A.T)[0]\n",
    "    eigB = np.linalg.eig(B@B.T)[0]\n",
    "    mu = min(min(eigA),min(eigB))\n",
    "    L = 8 * np.sqrt(2) * np.linalg.svd(np.hstack([A, B]))[1].max()**2\n",
    "    \n",
    "    v = np.random.randn(n)\n",
    "    f, gradf = params(A, B, E)\n",
    "    print(d, L/mu)\n",
    "    mu_list[d] = L/mu\n",
    "    alpha = 1/L\n",
    "    w = np.ones(n)\n",
    "    for Delta in Delta_list:\n",
    "        res[d][\"delta\"].append(int(np.log10(Delta)))\n",
    "        tol = np.sqrt(6) * Delta\n",
    "\n",
    "        grad_inexact = lambda w: gradf_inexact(w, gradf, Delta, 1, v=v)\n",
    "        method = GradientDescent(ConstantStepSize(alpha), name=\"GD, Delta={}\".format(Delta), save_iter=save_iter)\n",
    "        x = method.solve(w, f, grad_inexact, tol=tol, max_iter=N)\n",
    "        g = lambda: GradientDescent(ConstantStepSize(alpha),\n",
    "                                    return_history=False).solve(w, f, grad_inexact, tol=tol, max_iter=N)\n",
    "        T = timeit.timeit(g, number=number)/number\n",
    "        print(\"\\t{}\\t{}\\t{:.2f}\\t{:.6f}\\t{:.2f}\\t{:.2f}\".format(Delta, len(method.history), T*1000, np.linalg.norm(x-w), \n",
    "                                                np.linalg.norm(gradf(x))/Delta, f(x)))\n",
    "        methods.append(method)\n",
    "        res[d][\"iters_exact\"].append(len(method.history))\n",
    "        res[d][\"time_exact\"].append(\"{:.2f}\".format(T*1000))\n",
    "        res[d][\"exact,x0-x*\"].append(\"{:.1f}\".format(np.linalg.norm(x-w)))\n",
    "        res[d][\"normg_exact\"].append(\"{:.2f}\".format(np.linalg.norm(gradf(x))/Delta))\n",
    "\n",
    "\n",
    "        method = GradientDescent(ConstantStepSize(alpha), name=\"GD, Delta={}\".format(Delta), save_iter=save_iter)\n",
    "        x = method.solve(w, f, grad_inexact, tol=0, max_iter=N)\n",
    "        print(\"\\t{}\\t{}\\t{}\\t{:.6f}\\t{:.2f}\\t{:.2f}\".format(Delta, len(method.history), \"-\", np.linalg.norm(x-w), \n",
    "                                                np.linalg.norm(gradf(x))/Delta, f(x)))\n",
    "        methods.append(method)\n",
    "        res[d][\"additer,x0-x*\"].append(\"{:.1f}\".format(np.linalg.norm(x-w)))\n",
    "        res[d][\"normg_additer\"].append(\"{:.2f}\".format(np.linalg.norm(gradf(x))/Delta))\n",
    "        \n",
    "\n",
    "        method = GradientDescent(AdaptiveL(L0=1, Delta=Delta, Lmin=mu/4), name=\"GD, Delta={}\".format(Delta), save_iter=save_iter)\n",
    "        x = method.solve(w, f, grad_inexact, tol=tol, max_iter=N)\n",
    "        g = lambda: GradientDescent(AdaptiveL(L0=1, Delta=Delta, Lmin=mu/4),\n",
    "                                    return_history=False).solve(w, f, grad_inexact, tol=tol, max_iter=N)\n",
    "        T = timeit.timeit(g, number=number)/number        \n",
    "        print(\"\\t{}\\t{}\\t{:.2f}\\t{:.6f}\\t{:.2f}\\t{:.2f}\".format(Delta, len(method.history), T*1000, np.linalg.norm(x-w), \n",
    "                                                np.linalg.norm(gradf(x))/Delta, f(x)))\n",
    "        methods.append(method)\n",
    "        res[d][\"iters_adaptL\"].append(len(method.history))\n",
    "        res[d][\"time_adaptL\"].append(\"{:.2f}\".format(T*1000))\n",
    "        res[d][\"adaptL,x0-x*\"].append(\"{:.1f}\".format(np.linalg.norm(x-w)))\n",
    "        res[d][\"normg_adaptL\"].append(\"{:.2f}\".format(np.linalg.norm(gradf(x))/Delta))\n",
    "\n",
    "\n",
    "        method = AdaptiveNoiseGD(AdaptiveLdelta(L0=1, mindelta=1e-12, Lmin=mu/4, mu=mu), name=\"GD, Delta={}\".format(Delta), save_iter=save_iter, alpha=np.sqrt(6))\n",
    "        x = method.solve(w, f, grad_inexact, max_iter=N)\n",
    "        g = lambda: AdaptiveNoiseGD(AdaptiveLdelta(L0=1, mindelta=1e-12, Lmin=mu/4, mu=mu), return_history=False, \n",
    "                                    alpha=np.sqrt(6)).solve(w, f, grad_inexact, max_iter=N)\n",
    "        T = timeit.timeit(g, number=number)/number        \n",
    "        print(\"\\t{}\\t{}\\t{:.2f}\\t{:.6f}\\t{:.2f}\\t{}\".format(Delta, len(method.history), T*1000, np.linalg.norm(x-w), \n",
    "                                                np.linalg.norm(gradf(x))/Delta, f(x)))\n",
    "        methods.append(method)\n",
    "        res[d][\"iters_adaptLdelta\"].append(len(method.history))\n",
    "        res[d][\"time_adaptLdelta\"].append(\"{:.2f}\".format(T*1000))\n",
    "        res[d][\"adaptLdelta,x0-x*\"].append(\"{:.1f}\".format(np.linalg.norm(x-w)))\n",
    "        res[d][\"normg_adaptLdelta\"].append(\"{:.2f}\".format(np.linalg.norm(gradf(x))/Delta))    \n",
    "        print(\"\\n\")"
   ]
  },
  {
   "cell_type": "code",
   "execution_count": 231,
   "metadata": {},
   "outputs": [
    {
     "name": "stdout",
     "output_type": "stream",
     "text": [
      "8 & $2.1\\cdot 10^{5}$ & \\begin{tabular}{@{}c@{}} $10^{-4}$ \\\\ $10^{-1}$ \\end{tabular}&\\begin{tabular}{@{}c@{}} $14434$ \\\\ $1479$ \\end{tabular}&\\begin{tabular}{@{}c@{}} $2203.85$ \\\\ $220.82$ \\end{tabular}&\\begin{tabular}{@{}c@{}} $508$ \\\\ $56$ \\end{tabular}&\\begin{tabular}{@{}c@{}} $447.06$ \\\\ $45.54$ \\end{tabular}&\\begin{tabular}{@{}c@{}} $306$ \\\\ $69$ \\end{tabular}&\\begin{tabular}{@{}c@{}} $813.99$ \\\\ $178.63$ \\end{tabular}\\\\\n",
      "\\hline\n",
      "32 & $5.0\\cdot 10^{6}$ & \\begin{tabular}{@{}c@{}} $10^{-4}$ \\\\ $10^{-1}$ \\end{tabular}&\\begin{tabular}{@{}c@{}} $59643$ \\\\ $12536$ \\end{tabular}&\\begin{tabular}{@{}c@{}} $10314.68$ \\\\ $2290.65$ \\end{tabular}&\\begin{tabular}{@{}c@{}} $1871$ \\\\ $383$ \\end{tabular}&\\begin{tabular}{@{}c@{}} $1808.70$ \\\\ $393.74$ \\end{tabular}&\\begin{tabular}{@{}c@{}} $510$ \\\\ $144$ \\end{tabular}&\\begin{tabular}{@{}c@{}} $1509.95$ \\\\ $499.39$ \\end{tabular}\\\\\n",
      "\\hline\n",
      "128 & $7.7\\cdot 10^{8}$ & \\begin{tabular}{@{}c@{}} $10^{-4}$ \\\\ $10^{-1}$ \\end{tabular}&\\begin{tabular}{@{}c@{}} $921805$ \\\\ $264361$ \\end{tabular}&\\begin{tabular}{@{}c@{}} $177759.81$ \\\\ $47414.07$ \\end{tabular}&\\begin{tabular}{@{}c@{}} $27405$ \\\\ $8800$ \\end{tabular}&\\begin{tabular}{@{}c@{}} $23520.96$ \\\\ $7367.66$ \\end{tabular}&\\begin{tabular}{@{}c@{}} $4688$ \\\\ $1916$ \\end{tabular}&\\begin{tabular}{@{}c@{}} $11721.18$ \\\\ $4919.18$ \\end{tabular}\\\\\n",
      "\\hline\n",
      "\n"
     ]
    }
   ],
   "source": [
    "s = \"\"\n",
    "\n",
    "for d in d_list:\n",
    "    s += str(d) + \" & \"\n",
    "    kappa = mu_list[d]\n",
    "    l = int(np.log10(kappa))\n",
    "    s += \"${:.1f}\\\\cdot 10^{{{}}}$\".format(kappa/10**l, l) + \" & \"\n",
    "    \n",
    "    cur_list = [\"$10^{{{}}}$\".format(i) for i in res[d][\"delta\"]]\n",
    "    s+= \"\\\\begin{tabular}{@{}c@{}} \" + \" \\\\\\\\ \".join(cur_list) + \" \\\\end{tabular}&\"\n",
    "\n",
    "    cur_list = [\"${}$\".format(i) for i in res[d][\"iters_exact\"]]\n",
    "    s+= \"\\\\begin{tabular}{@{}c@{}} \" + \" \\\\\\\\ \".join(cur_list) + \" \\\\end{tabular}&\"\n",
    "    cur_list = [\"${}$\".format(i) for i in res[d][\"time_exact\"]]\n",
    "    s+= \"\\\\begin{tabular}{@{}c@{}} \" + \" \\\\\\\\ \".join(cur_list) + \" \\\\end{tabular}&\"\n",
    "\n",
    "    cur_list = [\"${}$\".format(i) for i in res[d][\"iters_adaptL\"]]\n",
    "    s+= \"\\\\begin{tabular}{@{}c@{}} \" + \" \\\\\\\\ \".join(cur_list) + \" \\\\end{tabular}&\"\n",
    "    cur_list = [\"${}$\".format(i) for i in res[d][\"time_adaptL\"]]\n",
    "    s+= \"\\\\begin{tabular}{@{}c@{}} \" + \" \\\\\\\\ \".join(cur_list) + \" \\\\end{tabular}&\"\n",
    "    \n",
    "    cur_list = [\"${}$\".format(i) for i in res[d][\"iters_adaptLdelta\"]]\n",
    "    s+= \"\\\\begin{tabular}{@{}c@{}} \" + \" \\\\\\\\ \".join(cur_list) + \" \\\\end{tabular}&\"\n",
    "    cur_list = [\"${}$\".format(i) for i in res[d][\"time_adaptLdelta\"]]\n",
    "    s+= \"\\\\begin{tabular}{@{}c@{}} \" + \" \\\\\\\\ \".join(cur_list) + \" \\\\end{tabular}\"\n",
    "\n",
    "    s+= \"\\\\\\\\\\n\\\\hline\\n\"\n",
    "print(s)"
   ]
  },
  {
   "cell_type": "code",
   "execution_count": 232,
   "metadata": {},
   "outputs": [
    {
     "name": "stdout",
     "output_type": "stream",
     "text": [
      "8 & $2.1\\cdot 10^{5}$ & \\begin{tabular}{@{}c@{}} $10^{-4}$ \\\\ $10^{-1}$ \\end{tabular}&\\begin{tabular}{@{}c@{}} $5.1$ \\\\ $4.8$ \\end{tabular}&\\begin{tabular}{@{}c@{}} $2.41$ \\\\ $2.34$ \\end{tabular}&\\begin{tabular}{@{}c@{}} $5.1$ \\\\ $4.8$ \\end{tabular}&\\begin{tabular}{@{}c@{}} $2.25$ \\\\ $2.09$ \\end{tabular}&\\begin{tabular}{@{}c@{}} $5.1$ \\\\ $4.9$ \\end{tabular}&\\begin{tabular}{@{}c@{}} $3.07$ \\\\ $2.28$ \\end{tabular}\\\\\n",
      "\\hline\n",
      "32 & $5.0\\cdot 10^{6}$ & \\begin{tabular}{@{}c@{}} $10^{-4}$ \\\\ $10^{-1}$ \\end{tabular}&\\begin{tabular}{@{}c@{}} $7.4$ \\\\ $7.4$ \\end{tabular}&\\begin{tabular}{@{}c@{}} $2.41$ \\\\ $2.37$ \\end{tabular}&\\begin{tabular}{@{}c@{}} $7.5$ \\\\ $7.4$ \\end{tabular}&\\begin{tabular}{@{}c@{}} $2.27$ \\\\ $2.24$ \\end{tabular}&\\begin{tabular}{@{}c@{}} $7.5$ \\\\ $7.4$ \\end{tabular}&\\begin{tabular}{@{}c@{}} $3.31$ \\\\ $2.72$ \\end{tabular}\\\\\n",
      "\\hline\n",
      "128 & $7.7\\cdot 10^{8}$ & \\begin{tabular}{@{}c@{}} $10^{-4}$ \\\\ $10^{-1}$ \\end{tabular}&\\begin{tabular}{@{}c@{}} $14.4$ \\\\ $14.3$ \\end{tabular}&\\begin{tabular}{@{}c@{}} $2.43$ \\\\ $2.43$ \\end{tabular}&\\begin{tabular}{@{}c@{}} $14.4$ \\\\ $14.3$ \\end{tabular}&\\begin{tabular}{@{}c@{}} $2.33$ \\\\ $2.32$ \\end{tabular}&\\begin{tabular}{@{}c@{}} $14.4$ \\\\ $14.4$ \\end{tabular}&\\begin{tabular}{@{}c@{}} $15.67$ \\\\ $1.84$ \\end{tabular}\\\\\n",
      "\\hline\n",
      "\n"
     ]
    }
   ],
   "source": [
    "s = \"\"\n",
    "\n",
    "for d in d_list:\n",
    "    s += str(d) + \" & \"\n",
    "    kappa = mu_list[d]\n",
    "    l = int(np.log10(kappa))\n",
    "    s += \"${:.1f}\\\\cdot 10^{{{}}}$\".format(kappa/10**l, l) + \" & \"\n",
    "    cur_list = [\"$10^{{{}}}$\".format(i) for i in res[d][\"delta\"]]\n",
    "    \n",
    "    s+= \"\\\\begin{tabular}{@{}c@{}} \" + \" \\\\\\\\ \".join(cur_list) + \" \\\\end{tabular}&\"\n",
    "    cur_list = [\"${}$\".format(i) for i in res[d][\"exact,x0-x*\"]]\n",
    "    s+= \"\\\\begin{tabular}{@{}c@{}} \" + \" \\\\\\\\ \".join(cur_list) + \" \\\\end{tabular}&\"\n",
    "    cur_list = [\"${}$\".format(i) for i in res[d][\"normg_exact\"]]\n",
    "    s+= \"\\\\begin{tabular}{@{}c@{}} \" + \" \\\\\\\\ \".join(cur_list) + \" \\\\end{tabular}&\"\n",
    "\n",
    "\n",
    "    cur_list = [\"${}$\".format(i) for i in res[d][\"adaptL,x0-x*\"]]\n",
    "    s+= \"\\\\begin{tabular}{@{}c@{}} \" + \" \\\\\\\\ \".join(cur_list) + \" \\\\end{tabular}&\"\n",
    "    cur_list = [\"${}$\".format(i) for i in res[d][\"normg_adaptL\"]]\n",
    "    s+= \"\\\\begin{tabular}{@{}c@{}} \" + \" \\\\\\\\ \".join(cur_list) + \" \\\\end{tabular}&\"\n",
    "    \n",
    "    cur_list = [\"${}$\".format(i) for i in res[d][\"adaptLdelta,x0-x*\"]]\n",
    "    s+= \"\\\\begin{tabular}{@{}c@{}} \" + \" \\\\\\\\ \".join(cur_list) + \" \\\\end{tabular}&\"\n",
    "    cur_list = [\"${}$\".format(i) for i in res[d][\"normg_adaptLdelta\"]]\n",
    "    s+= \"\\\\begin{tabular}{@{}c@{}} \" + \" \\\\\\\\ \".join(cur_list) + \" \\\\end{tabular}\"\n",
    "\n",
    "    s+= \"\\\\\\\\\\n\\\\hline\\n\"\n",
    "print(s)"
   ]
  },
  {
   "cell_type": "code",
   "execution_count": 235,
   "metadata": {},
   "outputs": [
    {
     "name": "stdout",
     "output_type": "stream",
     "text": [
      "8 & $2.1\\cdot 10^{5}$ & \\begin{tabular}{@{}c@{}} $10^{-4}$ \\\\ $10^{-1}$ \\end{tabular}&\\begin{tabular}{@{}c@{}} $14434$ \\\\ $1479$ \\end{tabular}&\\begin{tabular}{@{}c@{}} $5.1$ \\\\ $4.8$ \\end{tabular}&\\begin{tabular}{@{}c@{}} $2.41$ \\\\ $2.34$ \\end{tabular}\\\\\n",
      "\\hline\n",
      "32 & $5.0\\cdot 10^{6}$ & \\begin{tabular}{@{}c@{}} $10^{-4}$ \\\\ $10^{-1}$ \\end{tabular}&\\begin{tabular}{@{}c@{}} $59643$ \\\\ $12536$ \\end{tabular}&\\begin{tabular}{@{}c@{}} $7.4$ \\\\ $7.4$ \\end{tabular}&\\begin{tabular}{@{}c@{}} $2.41$ \\\\ $2.37$ \\end{tabular}\\\\\n",
      "\\hline\n",
      "128 & $7.7\\cdot 10^{8}$ & \\begin{tabular}{@{}c@{}} $10^{-4}$ \\\\ $10^{-1}$ \\end{tabular}&\\begin{tabular}{@{}c@{}} $921805$ \\\\ $264361$ \\end{tabular}&\\begin{tabular}{@{}c@{}} $14.4$ \\\\ $14.3$ \\end{tabular}&\\begin{tabular}{@{}c@{}} $2.43$ \\\\ $2.43$ \\end{tabular}\\\\\n",
      "\\hline\n",
      "\n"
     ]
    }
   ],
   "source": [
    "s = \"\"\n",
    "\n",
    "for d in d_list:\n",
    "    s += str(d) + \" & \"\n",
    "    kappa = mu_list[d]\n",
    "    l = int(np.log10(kappa))\n",
    "    s += \"${:.1f}\\\\cdot 10^{{{}}}$\".format(kappa/10**l, l) + \" & \"\n",
    "\n",
    "    cur_list = [\"$10^{{{}}}$\".format(i) for i in res[d][\"delta\"]]\n",
    "    s+= \"\\\\begin{tabular}{@{}c@{}} \" + \" \\\\\\\\ \".join(cur_list) + \" \\\\end{tabular}&\"\n",
    "\n",
    "    cur_list = [\"${}$\".format(i) for i in res[d][\"iters_exact\"]]\n",
    "    s+= \"\\\\begin{tabular}{@{}c@{}} \" + \" \\\\\\\\ \".join(cur_list) + \" \\\\end{tabular}&\"\n",
    "    cur_list = [\"${}$\".format(i) for i in res[d][\"exact,x0-x*\"]]\n",
    "    s+= \"\\\\begin{tabular}{@{}c@{}} \" + \" \\\\\\\\ \".join(cur_list) + \" \\\\end{tabular}&\"\n",
    "    cur_list = [\"${}$\".format(i) for i in res[d][\"normg_exact\"]]\n",
    "    s+= \"\\\\begin{tabular}{@{}c@{}} \" + \" \\\\\\\\ \".join(cur_list) + \" \\\\end{tabular}\"\n",
    "\n",
    "    s+= \"\\\\\\\\\\n\\\\hline\\n\"\n",
    "print(s)"
   ]
  },
  {
   "cell_type": "code",
   "execution_count": null,
   "metadata": {},
   "outputs": [],
   "source": []
  }
 ],
 "metadata": {
  "anaconda-cloud": {},
  "kernelspec": {
   "display_name": "Python 3",
   "language": "python",
   "name": "python3"
  },
  "language_info": {
   "codemirror_mode": {
    "name": "ipython",
    "version": 3
   },
   "file_extension": ".py",
   "mimetype": "text/x-python",
   "name": "python",
   "nbconvert_exporter": "python",
   "pygments_lexer": "ipython3",
   "version": "3.7.3"
  }
 },
 "nbformat": 4,
 "nbformat_minor": 1
}
