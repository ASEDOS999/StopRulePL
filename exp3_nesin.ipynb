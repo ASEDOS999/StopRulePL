{
 "cells": [
  {
   "cell_type": "markdown",
   "metadata": {
    "slideshow": {
     "slide_type": "slide"
    }
   },
   "source": [
    "# Experiments 1. Non-linear Equation System: sinus\n",
    "\n",
    "We will minimize\n",
    "\n",
    "$$f(w_1, w_2) = \\sum\\limits_{i=1}^d \\left(\\langle w_1, x_i\\rangle + \\sin\\left(w_2, x_i\\right) - y_i\\right)^2$$\n",
    "\n",
    "for $w_1, w_2\\in\\mathbb{R}^n$, $x_i \\in \\mathbb{R}^n$, $d\\leq n$ with the condition\n",
    "\n",
    "$$XX^\\top \\succeq \\mu I_d,$$\n",
    "where $X = (x_1 \\dots x_d)^\\top \\in \\mathbb{R}^{d\\times n}$"
   ]
  },
  {
   "cell_type": "code",
   "execution_count": 120,
   "metadata": {},
   "outputs": [],
   "source": [
    "import numpy as np\n",
    "import os\n",
    "import matplotlib\n",
    "import matplotlib.pyplot as plt\n",
    "import jax\n",
    "import jax.numpy as jnp\n",
    "import timeit\n",
    "from jax.config import config"
   ]
  },
  {
   "cell_type": "code",
   "execution_count": 121,
   "metadata": {},
   "outputs": [],
   "source": [
    "from methods import gradf_inexact\n",
    "from methods import GradientDescent, parse_logs, AdaptiveL, StepSize, AdaptiveNoiseGD\n",
    "from methods import ConstantStepSize, AdaptiveLdelta"
   ]
  },
  {
   "cell_type": "code",
   "execution_count": 122,
   "metadata": {},
   "outputs": [],
   "source": [
    "matplotlib.use('Agg')\n",
    "params = {'legend.fontsize': 20,\n",
    "          'legend.handlelength': 4,\n",
    "          \"axes.labelsize\": 45,\n",
    "          \"xtick.labelsize\": 25,\n",
    "          \"ytick.labelsize\": 25,\n",
    "          \"lines.linewidth\": 2,\n",
    "           \"axes.titlesize\":30}\n",
    "matplotlib.rcParams.update(params)"
   ]
  },
  {
   "cell_type": "code",
   "execution_count": 123,
   "metadata": {},
   "outputs": [],
   "source": [
    "config.update(\"jax_enable_x64\", True)"
   ]
  },
  {
   "cell_type": "code",
   "execution_count": 124,
   "metadata": {},
   "outputs": [],
   "source": [
    "path_pics = \"../pics/\""
   ]
  },
  {
   "cell_type": "code",
   "execution_count": 125,
   "metadata": {},
   "outputs": [
    {
     "data": {
      "text/plain": [
       "((20, 300), (20,), (20,))"
      ]
     },
     "execution_count": 125,
     "metadata": {},
     "output_type": "execute_result"
    }
   ],
   "source": [
    "X.shape, (np.hstack([X, X])@w).shape, Y.shape"
   ]
  },
  {
   "cell_type": "code",
   "execution_count": 126,
   "metadata": {},
   "outputs": [],
   "source": [
    "def f1(w, X, Y):\n",
    "    w1 = w[:n]\n",
    "    w2 = w[n:]\n",
    "    G = (X @ w[:n] + jnp.sin(X@w[:n]) - Y)**2\n",
    "    return G.sum()"
   ]
  },
  {
   "cell_type": "code",
   "execution_count": 127,
   "metadata": {},
   "outputs": [],
   "source": [
    "def f1(w1, w2, X, Y):\n",
    "    G = (X @ w1 + jnp.sin(X@w2) - Y)**2\n",
    "    return G.sum()\n",
    "\n",
    "gradf = jax.grad(f1, argnums=(0, 1), has_aux=False)\n",
    "jit_gradf = jax.jit(gradf)"
   ]
  },
  {
   "cell_type": "markdown",
   "metadata": {},
   "source": [
    "## 0. Dataset"
   ]
  },
  {
   "cell_type": "code",
   "execution_count": 144,
   "metadata": {},
   "outputs": [
    {
     "data": {
      "text/plain": [
       "(10.847227731959508, 970.5657981735665)"
      ]
     },
     "execution_count": 144,
     "metadata": {},
     "output_type": "execute_result"
    }
   ],
   "source": [
    "d = 200\n",
    "n = 300\n",
    "X = np.random.randn(d, n)\n",
    "w = np.random.randn(2*n)\n",
    "Y = X @ w[:n] + np.sin(X@w[n:])\n",
    "eig = np.linalg.eig(X@X.T)[0]\n",
    "mu = min(eig)\n",
    "min(eig), max(eig)"
   ]
  },
  {
   "cell_type": "code",
   "execution_count": 146,
   "metadata": {},
   "outputs": [],
   "source": [
    "sigma=0\n",
    "def gradf(x):\n",
    "    z = jit_gradf(x[:n], x[n:], X, Y)\n",
    "    g = np.hstack([np.array(i.block_until_ready()) for i in z])\n",
    "    return g\n",
    "f = lambda x: f1(x[:n], x[n:], X, Y)"
   ]
  },
  {
   "cell_type": "code",
   "execution_count": 147,
   "metadata": {},
   "outputs": [],
   "source": [
    "def params(X, Y):\n",
    "    def gradf(x):\n",
    "        z = jit_gradf(x[:n], x[n:], X, Y)\n",
    "        g = np.hstack([np.array(i.block_until_ready()) for i in z])\n",
    "        return g\n",
    "    f = lambda x: f1(x[:n], x[n:], X, Y)\n",
    "    return f, gradf\n",
    "f, gradf = params(X, Y)"
   ]
  },
  {
   "cell_type": "code",
   "execution_count": 148,
   "metadata": {
    "scrolled": false
   },
   "outputs": [
    {
     "data": {
      "text/plain": [
       "(124669.52974630086, 70948.26085081871, (600,))"
      ]
     },
     "execution_count": 148,
     "metadata": {},
     "output_type": "execute_result"
    }
   ],
   "source": [
    "f(w).item(), f(np.zeros(2*n)).item(), gradf(w).shape"
   ]
  },
  {
   "cell_type": "markdown",
   "metadata": {},
   "source": [
    "## 1. Noise Distributed on the Unit Sphere\n",
    "\n",
    "The case when $\\xi \\sim \\mathcal{U}(S_1(0))$"
   ]
  },
  {
   "cell_type": "code",
   "execution_count": 163,
   "metadata": {
    "scrolled": false
   },
   "outputs": [
    {
     "name": "stdout",
     "output_type": "stream",
     "text": [
      "10 221.187991129037\n",
      "\t1e-07\t72\t69.34\t3.514826\t0.23\t5.1197911038693455e-19\n",
      "\t1e-07\t83\t219.70\t3.514784\t1.75\t3.2470390687198864e-17\n",
      "\n",
      "\n",
      "\t0.0001\t50\t48.06\t3.514826\t0.21\t3.918266875115143e-13\n",
      "\t0.0001\t85\t183.15\t3.514784\t0.72\t5.446867607589956e-12\n",
      "\n",
      "\n",
      "\t0.1\t28\t29.02\t3.514577\t1.63\t2.7917950111808907e-05\n",
      "\t0.1\t56\t141.51\t3.514683\t0.67\t4.724898995910441e-06\n",
      "\n",
      "\n",
      "50 123.26937616329923\n",
      "\t1e-07\t84\t310.36\t10.173008\t1.38\t2.418284774218323e-17\n",
      "\t1e-07\t113\t1030.22\t10.180285\t0.72\t9.898540527794811e-18\n",
      "\n",
      "\n",
      "\t0.0001\t62\t370.77\t10.173007\t1.40\t3.046334490147606e-11\n",
      "\t0.0001\t67\t873.09\t10.180285\t1.66\t5.210587479637894e-11\n",
      "\n",
      "\n",
      "\t0.1\t41\t143.23\t10.172884\t1.33\t2.6156457763002835e-05\n",
      "\t0.1\t47\t550.34\t10.180097\t1.72\t5.438803969449771e-05\n",
      "\n",
      "\n",
      "100 58.55124414197606\n",
      "\t1e-07\t138\t587.38\t14.834304\t1.58\t7.96804217246692e-17\n",
      "\t1e-07\t158\t1301.62\t14.837213\t2.56\t4.7406460302447384e-17\n",
      "\n",
      "\n",
      "\t0.0001\t106\t335.90\t14.834304\t1.39\t4.488005886621077e-11\n",
      "\t0.0001\t112\t967.21\t14.837212\t1.73\t1.0116511860403428e-10\n",
      "\n",
      "\n",
      "\t0.1\t73\t224.40\t14.834024\t1.61\t6.892593180259463e-05\n",
      "\t0.1\t72\t703.61\t14.837329\t3.38\t6.328249351508028e-05\n",
      "\n",
      "\n",
      "200 10.536369511352175\n",
      "\t1e-07\t391\t1293.93\t18.759608\t1.66\t1.703166698248206e-16\n",
      "\t1e-07\t352\t3092.45\t18.757558\t3.48\t1.6272326136212173e-16\n",
      "\n",
      "\n",
      "\t0.0001\t270\t916.02\t18.759607\t1.70\t2.193412579589405e-10\n",
      "\t0.0001\t249\t2210.75\t18.757557\t1.71\t2.9515053024505447e-10\n",
      "\n",
      "\n",
      "\t0.1\t148\t501.14\t18.758565\t1.67\t0.0002561778915586351\n",
      "\t0.1\t139\t1373.82\t18.756538\t1.76\t0.0003099692306041438\n",
      "\n",
      "\n",
      "250 2.2958364488287875\n",
      "\t1e-07\t599\t2056.78\t21.907208\t1.68\t4.392556823582101e-16\n",
      "\t1e-07\t599\t4739.61\t21.915204\t0.81\t1.0755726299245886e-16\n",
      "\n",
      "\n",
      "\t0.0001\t416\t1462.49\t21.907207\t1.74\t3.4990956642517094e-10\n",
      "\t0.0001\t378\t3387.30\t21.915202\t1.71\t5.264527877368617e-10\n",
      "\n",
      "\n",
      "\t0.1\t230\t783.78\t21.905739\t1.69\t0.0003082286507444121\n",
      "\t0.1\t205\t3253.38\t21.913256\t1.74\t0.0005439062958256048\n",
      "\n",
      "\n"
     ]
    }
   ],
   "source": [
    "Delta_list = [1e-7, 1e-4, 1e-1]\n",
    "\n",
    "w = np.ones(2*n)\n",
    "v = np.random.randn(2*n)\n",
    "d_list = [10, 50, 100, 200, 250]\n",
    "res = {d:{\"delta\":[], \n",
    "           \"iters_adaptL\":[], \"time_adaptL\":[], \"adaptL,x0-x*\": [], \"normg_adaptL\": [],\n",
    "           \"iters_exact\":[], \"time_exact\":[], \"exact,x0-x*\": [], \"normg_exact\": [],\n",
    "          \"iters_adaptLdelta\":[], \"time_adaptLdelta\":[], \"adaptLdelta,x0-x*\": [], \"normg_adaptLdelta\": []} for d in d_list}\n",
    "mu_list = {}\n",
    "number = 10\n",
    "save_iter = 1\n",
    "N = 10000\n",
    "methods = []\n",
    "np.random.seed(1)\n",
    "for d in d_list:\n",
    "    X = np.random.randn(d, n)\n",
    "    w = np.random.randn(2*n)\n",
    "    Y = X @ w[:n] + np.sin(X@w[n:])\n",
    "    eig = np.linalg.eig(X@X.T)[0]\n",
    "    wsol=w.copy()\n",
    "    w = np.ones(2*n)\n",
    "    v = np.random.randn(2*n)\n",
    "    mu = min(eig)\n",
    "    f, gradf = params(X, Y)\n",
    "    print(d, mu)\n",
    "    mu_list[d] = mu\n",
    "    for Delta in Delta_list:\n",
    "        res[d][\"delta\"].append(int(np.log10(Delta)))\n",
    "        tol = 2*Delta\n",
    "\n",
    "        grad_inexact = lambda w: gradf_inexact(w, gradf, Delta, 1, v=v)\n",
    "        method = GradientDescent(AdaptiveL(L0=1, Delta=Delta, Lmin=mu/4), name=\"GD, Delta={}\".format(Delta), save_iter=save_iter)\n",
    "        x = method.solve(w, f, grad_inexact, tol=tol, max_iter=N)\n",
    "        g = lambda: GradientDescent(AdaptiveL(L0=1, Delta=Delta, Lmin=mu/4),\n",
    "                                    return_history=False).solve(w, f, grad_inexact, tol=tol, max_iter=N)\n",
    "        T = timeit.timeit(g, number=number)/number        \n",
    "        print(\"\\t{}\\t{}\\t{:.2f}\\t{:.6f}\\t{:.2f}\\t{}\".format(Delta, len(method.history), T*1000, np.linalg.norm(x-w), \n",
    "                                                np.linalg.norm(gradf(x))/Delta, f(x)))\n",
    "        methods.append(method)\n",
    "        res[d][\"iters_adaptL\"].append(len(method.history))\n",
    "        res[d][\"time_adaptL\"].append(\"{:.2f}\".format(T*1000))\n",
    "        res[d][\"adaptL,x0-x*\"].append(\"{:.1f}\".format(np.linalg.norm(x-w)))\n",
    "        res[d][\"normg_adaptL\"].append(\"{:.2f}\".format(np.linalg.norm(gradf(x))/Delta))\n",
    "\n",
    "\n",
    "        method = AdaptiveNoiseGD(AdaptiveLdelta(L0=1, mindelta=1e-12, Lmin=mu/4, mu=mu), name=\"GD, Delta={}\".format(Delta), save_iter=save_iter, alpha=np.sqrt(6))\n",
    "        x = method.solve(w, f, grad_inexact, max_iter=N)\n",
    "        g = lambda: AdaptiveNoiseGD(AdaptiveLdelta(L0=1, mindelta=1e-12, Lmin=mu/4, mu=mu), return_history=False, \n",
    "                                    alpha=np.sqrt(6)).solve(w, f, grad_inexact, max_iter=N)\n",
    "        T = timeit.timeit(g, number=number)/number        \n",
    "        print(\"\\t{}\\t{}\\t{:.2f}\\t{:.6f}\\t{:.2f}\\t{}\".format(Delta, len(method.history), T*1000, np.linalg.norm(x-w), \n",
    "                                                np.linalg.norm(gradf(x))/Delta, f(x)))\n",
    "        methods.append(method)\n",
    "        res[d][\"iters_adaptLdelta\"].append(len(method.history))\n",
    "        res[d][\"time_adaptLdelta\"].append(\"{:.2f}\".format(T*1000))\n",
    "        res[d][\"adaptLdelta,x0-x*\"].append(\"{:.1f}\".format(np.linalg.norm(x-w)))\n",
    "        res[d][\"normg_adaptLdelta\"].append(\"{:.2f}\".format(np.linalg.norm(gradf(x))/Delta))    \n",
    "        print(\"\\n\")"
   ]
  },
  {
   "cell_type": "code",
   "execution_count": 166,
   "metadata": {},
   "outputs": [
    {
     "name": "stdout",
     "output_type": "stream",
     "text": [
      "10 & 221.2 & \\begin{tabular}{@{}c@{}} $10^{-7}$ \\\\ $10^{-4}$ \\\\ $10^{-1}$ \\end{tabular}&\\begin{tabular}{@{}c@{}} $72$ \\\\ $50$ \\\\ $28$ \\end{tabular}&\\begin{tabular}{@{}c@{}} $69.34$ \\\\ $48.06$ \\\\ $29.02$ \\end{tabular}&\\begin{tabular}{@{}c@{}} $83$ \\\\ $85$ \\\\ $56$ \\end{tabular}&\\begin{tabular}{@{}c@{}} $219.70$ \\\\ $183.15$ \\\\ $141.51$ \\end{tabular}\\\\\n",
      "\\hline\n",
      "50 & 123.3 & \\begin{tabular}{@{}c@{}} $10^{-7}$ \\\\ $10^{-4}$ \\\\ $10^{-1}$ \\end{tabular}&\\begin{tabular}{@{}c@{}} $84$ \\\\ $62$ \\\\ $41$ \\end{tabular}&\\begin{tabular}{@{}c@{}} $310.36$ \\\\ $370.77$ \\\\ $143.23$ \\end{tabular}&\\begin{tabular}{@{}c@{}} $113$ \\\\ $67$ \\\\ $47$ \\end{tabular}&\\begin{tabular}{@{}c@{}} $1030.22$ \\\\ $873.09$ \\\\ $550.34$ \\end{tabular}\\\\\n",
      "\\hline\n",
      "100 & 58.6 & \\begin{tabular}{@{}c@{}} $10^{-7}$ \\\\ $10^{-4}$ \\\\ $10^{-1}$ \\end{tabular}&\\begin{tabular}{@{}c@{}} $138$ \\\\ $106$ \\\\ $73$ \\end{tabular}&\\begin{tabular}{@{}c@{}} $587.38$ \\\\ $335.90$ \\\\ $224.40$ \\end{tabular}&\\begin{tabular}{@{}c@{}} $158$ \\\\ $112$ \\\\ $72$ \\end{tabular}&\\begin{tabular}{@{}c@{}} $1301.62$ \\\\ $967.21$ \\\\ $703.61$ \\end{tabular}\\\\\n",
      "\\hline\n",
      "200 & 10.5 & \\begin{tabular}{@{}c@{}} $10^{-7}$ \\\\ $10^{-4}$ \\\\ $10^{-1}$ \\end{tabular}&\\begin{tabular}{@{}c@{}} $391$ \\\\ $270$ \\\\ $148$ \\end{tabular}&\\begin{tabular}{@{}c@{}} $1293.93$ \\\\ $916.02$ \\\\ $501.14$ \\end{tabular}&\\begin{tabular}{@{}c@{}} $352$ \\\\ $249$ \\\\ $139$ \\end{tabular}&\\begin{tabular}{@{}c@{}} $3092.45$ \\\\ $2210.75$ \\\\ $1373.82$ \\end{tabular}\\\\\n",
      "\\hline\n",
      "250 & 2.3 & \\begin{tabular}{@{}c@{}} $10^{-7}$ \\\\ $10^{-4}$ \\\\ $10^{-1}$ \\end{tabular}&\\begin{tabular}{@{}c@{}} $599$ \\\\ $416$ \\\\ $230$ \\end{tabular}&\\begin{tabular}{@{}c@{}} $2056.78$ \\\\ $1462.49$ \\\\ $783.78$ \\end{tabular}&\\begin{tabular}{@{}c@{}} $599$ \\\\ $378$ \\\\ $205$ \\end{tabular}&\\begin{tabular}{@{}c@{}} $4739.61$ \\\\ $3387.30$ \\\\ $3253.38$ \\end{tabular}\\\\\n",
      "\\hline\n",
      "\n"
     ]
    }
   ],
   "source": [
    "s = \"\"\n",
    "\n",
    "for d in d_list:\n",
    "    s += str(d) + \" & \"\n",
    "    s += \"{:.1f}\".format(mu_list[d]) + \" & \"\n",
    "\n",
    "    cur_list = [\"$10^{{{}}}$\".format(i) for i in res[d][\"delta\"]]\n",
    "    s+= \"\\\\begin{tabular}{@{}c@{}} \" + \" \\\\\\\\ \".join(cur_list) + \" \\\\end{tabular}&\"\n",
    "\n",
    "    cur_list = [\"${}$\".format(i) for i in res[d][\"iters_adaptL\"]]\n",
    "    s+= \"\\\\begin{tabular}{@{}c@{}} \" + \" \\\\\\\\ \".join(cur_list) + \" \\\\end{tabular}&\"\n",
    "    cur_list = [\"${}$\".format(i) for i in res[d][\"time_adaptL\"]]\n",
    "    s+= \"\\\\begin{tabular}{@{}c@{}} \" + \" \\\\\\\\ \".join(cur_list) + \" \\\\end{tabular}&\"\n",
    "    \n",
    "    cur_list = [\"${}$\".format(i) for i in res[d][\"iters_adaptLdelta\"]]\n",
    "    s+= \"\\\\begin{tabular}{@{}c@{}} \" + \" \\\\\\\\ \".join(cur_list) + \" \\\\end{tabular}&\"\n",
    "    cur_list = [\"${}$\".format(i) for i in res[d][\"time_adaptLdelta\"]]\n",
    "    s+= \"\\\\begin{tabular}{@{}c@{}} \" + \" \\\\\\\\ \".join(cur_list) + \" \\\\end{tabular}\"\n",
    "\n",
    "    s+= \"\\\\\\\\\\n\\\\hline\\n\"\n",
    "print(s)"
   ]
  },
  {
   "cell_type": "code",
   "execution_count": 167,
   "metadata": {},
   "outputs": [
    {
     "name": "stdout",
     "output_type": "stream",
     "text": [
      "10 & \\begin{tabular}{@{}c@{}} $10^{-7}$ \\\\ $10^{-4}$ \\\\ $10^{-1}$ \\end{tabular}&\\begin{tabular}{@{}c@{}} $3.5$ \\\\ $3.5$ \\\\ $3.5$ \\end{tabular}&\\begin{tabular}{@{}c@{}} $0.23$ \\\\ $0.21$ \\\\ $1.63$ \\end{tabular}&\\begin{tabular}{@{}c@{}} $3.5$ \\\\ $3.5$ \\\\ $3.5$ \\end{tabular}&\\begin{tabular}{@{}c@{}} $1.75$ \\\\ $0.72$ \\\\ $0.67$ \\end{tabular}\\\\\n",
      "\\hline\n",
      "50 & \\begin{tabular}{@{}c@{}} $10^{-7}$ \\\\ $10^{-4}$ \\\\ $10^{-1}$ \\end{tabular}&\\begin{tabular}{@{}c@{}} $10.2$ \\\\ $10.2$ \\\\ $10.2$ \\end{tabular}&\\begin{tabular}{@{}c@{}} $1.38$ \\\\ $1.40$ \\\\ $1.33$ \\end{tabular}&\\begin{tabular}{@{}c@{}} $10.2$ \\\\ $10.2$ \\\\ $10.2$ \\end{tabular}&\\begin{tabular}{@{}c@{}} $0.72$ \\\\ $1.66$ \\\\ $1.72$ \\end{tabular}\\\\\n",
      "\\hline\n",
      "100 & \\begin{tabular}{@{}c@{}} $10^{-7}$ \\\\ $10^{-4}$ \\\\ $10^{-1}$ \\end{tabular}&\\begin{tabular}{@{}c@{}} $14.8$ \\\\ $14.8$ \\\\ $14.8$ \\end{tabular}&\\begin{tabular}{@{}c@{}} $1.58$ \\\\ $1.39$ \\\\ $1.61$ \\end{tabular}&\\begin{tabular}{@{}c@{}} $14.8$ \\\\ $14.8$ \\\\ $14.8$ \\end{tabular}&\\begin{tabular}{@{}c@{}} $2.56$ \\\\ $1.73$ \\\\ $3.38$ \\end{tabular}\\\\\n",
      "\\hline\n",
      "200 & \\begin{tabular}{@{}c@{}} $10^{-7}$ \\\\ $10^{-4}$ \\\\ $10^{-1}$ \\end{tabular}&\\begin{tabular}{@{}c@{}} $18.8$ \\\\ $18.8$ \\\\ $18.8$ \\end{tabular}&\\begin{tabular}{@{}c@{}} $1.66$ \\\\ $1.70$ \\\\ $1.67$ \\end{tabular}&\\begin{tabular}{@{}c@{}} $18.8$ \\\\ $18.8$ \\\\ $18.8$ \\end{tabular}&\\begin{tabular}{@{}c@{}} $3.48$ \\\\ $1.71$ \\\\ $1.76$ \\end{tabular}\\\\\n",
      "\\hline\n",
      "250 & \\begin{tabular}{@{}c@{}} $10^{-7}$ \\\\ $10^{-4}$ \\\\ $10^{-1}$ \\end{tabular}&\\begin{tabular}{@{}c@{}} $21.9$ \\\\ $21.9$ \\\\ $21.9$ \\end{tabular}&\\begin{tabular}{@{}c@{}} $1.68$ \\\\ $1.74$ \\\\ $1.69$ \\end{tabular}&\\begin{tabular}{@{}c@{}} $21.9$ \\\\ $21.9$ \\\\ $21.9$ \\end{tabular}&\\begin{tabular}{@{}c@{}} $0.81$ \\\\ $1.71$ \\\\ $1.74$ \\end{tabular}\\\\\n",
      "\\hline\n",
      "\n"
     ]
    }
   ],
   "source": [
    "s = \"\"\n",
    "\n",
    "for d in d_list:\n",
    "    s += str(d) + \" & \"\n",
    "    cur_list = [\"$10^{{{}}}$\".format(i) for i in res[d][\"delta\"]]\n",
    "\n",
    "\n",
    "    s+= \"\\\\begin{tabular}{@{}c@{}} \" + \" \\\\\\\\ \".join(cur_list) + \" \\\\end{tabular}&\"\n",
    "    cur_list = [\"${}$\".format(i) for i in res[d][\"adaptL,x0-x*\"]]\n",
    "    s+= \"\\\\begin{tabular}{@{}c@{}} \" + \" \\\\\\\\ \".join(cur_list) + \" \\\\end{tabular}&\"\n",
    "    cur_list = [\"${}$\".format(i) for i in res[d][\"normg_adaptL\"]]\n",
    "    s+= \"\\\\begin{tabular}{@{}c@{}} \" + \" \\\\\\\\ \".join(cur_list) + \" \\\\end{tabular}&\"\n",
    "    \n",
    "    cur_list = [\"${}$\".format(i) for i in res[d][\"adaptLdelta,x0-x*\"]]\n",
    "    s+= \"\\\\begin{tabular}{@{}c@{}} \" + \" \\\\\\\\ \".join(cur_list) + \" \\\\end{tabular}&\"\n",
    "    cur_list = [\"${}$\".format(i) for i in res[d][\"normg_adaptLdelta\"]]\n",
    "    s+= \"\\\\begin{tabular}{@{}c@{}} \" + \" \\\\\\\\ \".join(cur_list) + \" \\\\end{tabular}\"\n",
    "\n",
    "    s+= \"\\\\\\\\\\n\\\\hline\\n\"\n",
    "print(s)"
   ]
  },
  {
   "cell_type": "code",
   "execution_count": null,
   "metadata": {},
   "outputs": [],
   "source": []
  }
 ],
 "metadata": {
  "anaconda-cloud": {},
  "kernelspec": {
   "display_name": "Python 3",
   "language": "python",
   "name": "python3"
  },
  "language_info": {
   "codemirror_mode": {
    "name": "ipython",
    "version": 3
   },
   "file_extension": ".py",
   "mimetype": "text/x-python",
   "name": "python",
   "nbconvert_exporter": "python",
   "pygments_lexer": "ipython3",
   "version": "3.7.3"
  }
 },
 "nbformat": 4,
 "nbformat_minor": 1
}
