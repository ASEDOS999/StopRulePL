{
 "cells": [
  {
   "cell_type": "markdown",
   "metadata": {
    "slideshow": {
     "slide_type": "slide"
    }
   },
   "source": [
    "# Experiments 1. Non-linear Equation System: sinus\n",
    "\n",
    "We will minimize\n",
    "\n",
    "$$f(x_1, x_2) = 100(x_2-x_1^2)^2 + (x_1-1)^2.$$\n"
   ]
  },
  {
   "cell_type": "code",
   "execution_count": 26,
   "metadata": {},
   "outputs": [],
   "source": [
    "import numpy as np\n",
    "import os\n",
    "import matplotlib\n",
    "import matplotlib.pyplot as plt\n",
    "import jax\n",
    "import jax.numpy as jnp\n",
    "import timeit\n",
    "from jax.config import config"
   ]
  },
  {
   "cell_type": "code",
   "execution_count": 27,
   "metadata": {},
   "outputs": [],
   "source": [
    "from methods import gradf_inexact\n",
    "from methods import GradientDescent, parse_logs, AdaptiveL, StepSize, AdaptiveNoiseGD\n",
    "from methods import ConstantStepSize, AdaptiveLdelta"
   ]
  },
  {
   "cell_type": "code",
   "execution_count": 28,
   "metadata": {},
   "outputs": [],
   "source": [
    "matplotlib.use('Agg')\n",
    "params = {'legend.fontsize': 20,\n",
    "          'legend.handlelength': 4,\n",
    "          \"axes.labelsize\": 45,\n",
    "          \"xtick.labelsize\": 25,\n",
    "          \"ytick.labelsize\": 25,\n",
    "          \"lines.linewidth\": 2,\n",
    "           \"axes.titlesize\":30}\n",
    "matplotlib.rcParams.update(params)"
   ]
  },
  {
   "cell_type": "code",
   "execution_count": 29,
   "metadata": {},
   "outputs": [],
   "source": [
    "config.update(\"jax_enable_x64\", True)"
   ]
  },
  {
   "cell_type": "code",
   "execution_count": 30,
   "metadata": {},
   "outputs": [],
   "source": [
    "path_pics = \"../pics/\""
   ]
  },
  {
   "cell_type": "code",
   "execution_count": 31,
   "metadata": {},
   "outputs": [],
   "source": [
    "def f1(w1, w2):\n",
    "    G = 100*(w2-w1**2)**2 + (w1-1)**2\n",
    "    return G.sum()\n",
    "gradf = jax.grad(f1, argnums=(0, 1), has_aux=False)\n",
    "jit_gradf = jax.jit(gradf)"
   ]
  },
  {
   "cell_type": "markdown",
   "metadata": {},
   "source": [
    "## 0. Dataset"
   ]
  },
  {
   "cell_type": "code",
   "execution_count": 32,
   "metadata": {
    "scrolled": false
   },
   "outputs": [
    {
     "data": {
      "text/plain": [
       "(array([0., 0.]), 0.0)"
      ]
     },
     "execution_count": 32,
     "metadata": {},
     "output_type": "execute_result"
    }
   ],
   "source": [
    "sigma=0\n",
    "n = 1\n",
    "def gradf(x):\n",
    "    z = jit_gradf(x[:n], x[n:])\n",
    "    g = np.hstack([np.array(i.block_until_ready()) for i in z])\n",
    "    return g\n",
    "f2 = lambda x: f1(x[:n], x[n:])\n",
    "gradf(np.array([1., 1.])), f2(np.array([1., 1.]))"
   ]
  },
  {
   "cell_type": "code",
   "execution_count": null,
   "metadata": {},
   "outputs": [],
   "source": []
  },
  {
   "cell_type": "markdown",
   "metadata": {},
   "source": [
    "## 1. Noise Distributed on the Unit Sphere\n",
    "\n",
    "The case when $\\xi \\sim \\mathcal{U}(S_1(0))$"
   ]
  },
  {
   "cell_type": "code",
   "execution_count": 33,
   "metadata": {
    "scrolled": false
   },
   "outputs": [
    {
     "name": "stdout",
     "output_type": "stream",
     "text": [
      "0.10000000000000009\n",
      "1e-08\n",
      "\t0.0001\t3721\t2884.37\t0.099340\t2.95\t1.0938547439412939e-07\n",
      "\t0.0001\t24\t34.13\t0.044916\t327.32\t0.0012714073464514157\n",
      "\n",
      "\n",
      "1e-06\n",
      "\t0.001\t2121\t3908.88\t0.093600\t2.98\t1.0959428014296009e-05\n",
      "\t0.001\t22\t5.31\t0.044511\t294.24\t0.0014459181571573822\n",
      "\n",
      "\n",
      "0.0001\n",
      "\t0.01\t229\t3383.24\t0.047393\t2.79\t0.0010147837378224266\n",
      "\t0.01\t11\t2.91\t0.047995\t431.53\t0.010196781088944888\n",
      "\n",
      "\n"
     ]
    }
   ],
   "source": [
    "eps_list = [1e-8, 1e-6, 1e-4]\n",
    "\n",
    "n = 1\n",
    "d_list = [1]\n",
    "\n",
    "w = np.ones(2*n)*2\n",
    "w = np.array([1, 1.1])\n",
    "v = np.random.randn(2*n)\n",
    "res = {d:{\"delta\":[], \n",
    "           \"iters_adaptL\":[], \"time_adaptL\":[], \"adaptL,x0-x*\": [], \"normg_adaptL\": [],\n",
    "           \"iters_exact\":[], \"time_exact\":[], \"exact,x0-x*\": [], \"normg_exact\": [],\n",
    "          \"iters_adaptLdelta\":[], \"time_adaptLdelta\":[], \"adaptLdelta,x0-x*\": [], \"normg_adaptLdelta\": []} for d in d_list}\n",
    "mu_list = {}\n",
    "number = 10\n",
    "save_iter = 1\n",
    "N = 10000\n",
    "methods = []\n",
    "np.random.seed(1)\n",
    "print(np.linalg.norm(w-np.array([1, 1])))\n",
    "for eps in eps_list:\n",
    "    d = 1\n",
    "    mu = 1e-6\n",
    "    Delta = np.sqrt(eps)\n",
    "    f = lambda x: f2(x) + eps * np.random.uniform(-1, 1)\n",
    "    res[d][\"delta\"].append(int(np.log10(Delta)))\n",
    "    tol = 2*Delta\n",
    "    \n",
    "\n",
    "    grad_inexact = lambda w: gradf_inexact(w, gradf, Delta, 1, v=v)\n",
    "    print(eps)\n",
    "    method = GradientDescent(AdaptiveL(L0=1, Delta=Delta, Lmin=mu/4, delta=eps), name=\"GD, Delta={}\".format(Delta), save_iter=save_iter)\n",
    "    x = method.solve(w, f, grad_inexact, tol=tol, max_iter=N)\n",
    "    g = lambda: GradientDescent(AdaptiveL(L0=1, Delta=Delta, Lmin=mu/4),\n",
    "                                return_history=False).solve(w, f, grad_inexact, tol=tol, max_iter=N)\n",
    "    T = timeit.timeit(g, number=number)/number        \n",
    "    print(\"\\t{}\\t{}\\t{:.2f}\\t{:.6f}\\t{:.2f}\\t{}\".format(Delta, len(method.history), T*1000, np.linalg.norm(x-w), \n",
    "                                            np.linalg.norm(gradf(x))/Delta, f(x)))\n",
    "    methods.append(method)\n",
    "    res[d][\"iters_adaptL\"].append(len(method.history))\n",
    "    res[d][\"time_adaptL\"].append(\"{:.2f}\".format(T*1000))\n",
    "    res[d][\"adaptL,x0-x*\"].append(\"{:.3f}\".format(np.linalg.norm(x-w)))\n",
    "    res[d][\"normg_adaptL\"].append(\"{:.2f}\".format(np.linalg.norm(gradf(x))/Delta))\n",
    "\n",
    "\n",
    "    method = AdaptiveNoiseGD(AdaptiveLdelta(L0=1, mindelta=1e-12, Lmin=mu/4, mu=mu, delta_alpha=2.1), name=\"GD, Delta={}\".format(Delta), save_iter=save_iter, alpha=np.sqrt(6))\n",
    "    x = method.solve(w, f, grad_inexact, max_iter=N)\n",
    "    g = lambda: AdaptiveNoiseGD(AdaptiveLdelta(L0=1, mindelta=1e-12, Lmin=mu/4, mu=mu), return_history=False, \n",
    "                                alpha=np.sqrt(6)).solve(w, f, grad_inexact, max_iter=N)\n",
    "    T = timeit.timeit(g, number=number)/number        \n",
    "    print(\"\\t{}\\t{}\\t{:.2f}\\t{:.6f}\\t{:.2f}\\t{}\".format(Delta, len(method.history), T*1000, np.linalg.norm(x-w), \n",
    "                                            np.linalg.norm(gradf(x))/Delta, f(x)))\n",
    "    methods.append(method)\n",
    "    res[d][\"iters_adaptLdelta\"].append(len(method.history))\n",
    "    res[d][\"time_adaptLdelta\"].append(\"{:.2f}\".format(T*1000))\n",
    "    res[d][\"adaptLdelta,x0-x*\"].append(\"{:.3f}\".format(np.linalg.norm(x-w)))\n",
    "    res[d][\"normg_adaptLdelta\"].append(\"{:.2f}\".format(np.linalg.norm(gradf(x))/Delta))     \n",
    "    print(\"\\n\")\n"
   ]
  },
  {
   "cell_type": "code",
   "execution_count": 36,
   "metadata": {},
   "outputs": [
    {
     "name": "stdout",
     "output_type": "stream",
     "text": [
      "1 & \\begin{tabular}{@{}c@{}} $10^{-4}$ \\\\ $10^{-3}$ \\\\ $10^{-2}$ \\end{tabular}&\\begin{tabular}{@{}c@{}} $3721$ \\\\ $2121$ \\\\ $229$ \\end{tabular}&\\begin{tabular}{@{}c@{}} $2884.37$ \\\\ $3908.88$ \\\\ $3383.24$ \\end{tabular}&\\begin{tabular}{@{}c@{}} $24$ \\\\ $22$ \\\\ $11$ \\end{tabular}&\\begin{tabular}{@{}c@{}} $34.13$ \\\\ $5.31$ \\\\ $2.91$ \\end{tabular}\\\\\n",
      "\\hline\n",
      "\n"
     ]
    }
   ],
   "source": [
    "s = \"\"\n",
    "\n",
    "for d in d_list:\n",
    "    s += str(d) + \" & \"\n",
    "\n",
    "    cur_list = [\"$10^{{{}}}$\".format(i) for i in res[d][\"delta\"]]\n",
    "    s+= \"\\\\begin{tabular}{@{}c@{}} \" + \" \\\\\\\\ \".join(cur_list) + \" \\\\end{tabular}&\"\n",
    "\n",
    "    cur_list = [\"${}$\".format(i) for i in res[d][\"iters_adaptL\"]]\n",
    "    s+= \"\\\\begin{tabular}{@{}c@{}} \" + \" \\\\\\\\ \".join(cur_list) + \" \\\\end{tabular}&\"\n",
    "    cur_list = [\"${}$\".format(i) for i in res[d][\"time_adaptL\"]]\n",
    "    s+= \"\\\\begin{tabular}{@{}c@{}} \" + \" \\\\\\\\ \".join(cur_list) + \" \\\\end{tabular}&\"\n",
    "    \n",
    "    cur_list = [\"${}$\".format(i) for i in res[d][\"iters_adaptLdelta\"]]\n",
    "    s+= \"\\\\begin{tabular}{@{}c@{}} \" + \" \\\\\\\\ \".join(cur_list) + \" \\\\end{tabular}&\"\n",
    "    cur_list = [\"${}$\".format(i) for i in res[d][\"time_adaptLdelta\"]]\n",
    "    s+= \"\\\\begin{tabular}{@{}c@{}} \" + \" \\\\\\\\ \".join(cur_list) + \" \\\\end{tabular}\"\n",
    "\n",
    "    s+= \"\\\\\\\\\\n\\\\hline\\n\"\n",
    "print(s)"
   ]
  },
  {
   "cell_type": "code",
   "execution_count": 37,
   "metadata": {},
   "outputs": [
    {
     "name": "stdout",
     "output_type": "stream",
     "text": [
      "1 & \\begin{tabular}{@{}c@{}} $10^{-4}$ \\\\ $10^{-3}$ \\\\ $10^{-2}$ \\end{tabular}&\\begin{tabular}{@{}c@{}} $0.099$ \\\\ $0.094$ \\\\ $0.047$ \\end{tabular}&\\begin{tabular}{@{}c@{}} $2.95$ \\\\ $2.98$ \\\\ $2.79$ \\end{tabular}&\\begin{tabular}{@{}c@{}} $0.045$ \\\\ $0.045$ \\\\ $0.048$ \\end{tabular}&\\begin{tabular}{@{}c@{}} $327.32$ \\\\ $294.24$ \\\\ $431.53$ \\end{tabular}\\\\\n",
      "\\hline\n",
      "\n"
     ]
    }
   ],
   "source": [
    "s = \"\"\n",
    "\n",
    "for d in d_list:\n",
    "    s += str(d) + \" & \"\n",
    "    cur_list = [\"$10^{{{}}}$\".format(i) for i in res[d][\"delta\"]]\n",
    "\n",
    "\n",
    "    s+= \"\\\\begin{tabular}{@{}c@{}} \" + \" \\\\\\\\ \".join(cur_list) + \" \\\\end{tabular}&\"\n",
    "    cur_list = [\"${}$\".format(i) for i in res[d][\"adaptL,x0-x*\"]]\n",
    "    s+= \"\\\\begin{tabular}{@{}c@{}} \" + \" \\\\\\\\ \".join(cur_list) + \" \\\\end{tabular}&\"\n",
    "    cur_list = [\"${}$\".format(i) for i in res[d][\"normg_adaptL\"]]\n",
    "    s+= \"\\\\begin{tabular}{@{}c@{}} \" + \" \\\\\\\\ \".join(cur_list) + \" \\\\end{tabular}&\"\n",
    "    \n",
    "    cur_list = [\"${}$\".format(i) for i in res[d][\"adaptLdelta,x0-x*\"]]\n",
    "    s+= \"\\\\begin{tabular}{@{}c@{}} \" + \" \\\\\\\\ \".join(cur_list) + \" \\\\end{tabular}&\"\n",
    "    cur_list = [\"${}$\".format(i) for i in res[d][\"normg_adaptLdelta\"]]\n",
    "    s+= \"\\\\begin{tabular}{@{}c@{}} \" + \" \\\\\\\\ \".join(cur_list) + \" \\\\end{tabular}\"\n",
    "\n",
    "    s+= \"\\\\\\\\\\n\\\\hline\\n\"\n",
    "print(s)"
   ]
  },
  {
   "cell_type": "code",
   "execution_count": null,
   "metadata": {},
   "outputs": [],
   "source": []
  }
 ],
 "metadata": {
  "anaconda-cloud": {},
  "kernelspec": {
   "display_name": "Python 3",
   "language": "python",
   "name": "python3"
  },
  "language_info": {
   "codemirror_mode": {
    "name": "ipython",
    "version": 3
   },
   "file_extension": ".py",
   "mimetype": "text/x-python",
   "name": "python",
   "nbconvert_exporter": "python",
   "pygments_lexer": "ipython3",
   "version": "3.7.3"
  }
 },
 "nbformat": 4,
 "nbformat_minor": 1
}
