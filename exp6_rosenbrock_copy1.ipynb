{
 "cells": [
  {
   "cell_type": "markdown",
   "metadata": {
    "slideshow": {
     "slide_type": "slide"
    }
   },
   "source": [
    "# Experiments 6. Rosenbrock Function\n",
    "\n",
    "We will minimize\n",
    "\n",
    "$$f(x_1, x_2) = 100(x_2-x_1^2)^2 + (x_1-1)^2.$$\n"
   ]
  },
  {
   "cell_type": "code",
   "execution_count": 1,
   "metadata": {},
   "outputs": [],
   "source": [
    "import numpy as np\n",
    "import os\n",
    "import matplotlib\n",
    "import matplotlib.pyplot as plt\n",
    "import jax\n",
    "import jax.numpy as jnp\n",
    "import timeit\n",
    "from jax.config import config"
   ]
  },
  {
   "cell_type": "code",
   "execution_count": 2,
   "metadata": {},
   "outputs": [],
   "source": [
    "from methods import gradf_inexact\n",
    "from methods import GradientDescent, parse_logs, AdaptiveL, StepSize, AdaptiveNoiseGD\n",
    "from methods import ConstantStepSize, AdaptiveLdelta"
   ]
  },
  {
   "cell_type": "code",
   "execution_count": 3,
   "metadata": {},
   "outputs": [],
   "source": [
    "matplotlib.use('Agg')\n",
    "params = {'legend.fontsize': 20,\n",
    "          'legend.handlelength': 4,\n",
    "          \"axes.labelsize\": 45,\n",
    "          \"xtick.labelsize\": 25,\n",
    "          \"ytick.labelsize\": 25,\n",
    "          \"lines.linewidth\": 2,\n",
    "           \"axes.titlesize\":30}\n",
    "matplotlib.rcParams.update(params)"
   ]
  },
  {
   "cell_type": "code",
   "execution_count": 4,
   "metadata": {},
   "outputs": [],
   "source": [
    "config.update(\"jax_enable_x64\", True)"
   ]
  },
  {
   "cell_type": "code",
   "execution_count": 5,
   "metadata": {},
   "outputs": [],
   "source": [
    "path_pics = \"../pics/\""
   ]
  },
  {
   "cell_type": "code",
   "execution_count": 6,
   "metadata": {},
   "outputs": [],
   "source": [
    "def f1(w1, w2):\n",
    "    G = 100*(w2-w1**2)**2 + (w1-1)**2\n",
    "    return G.sum()\n",
    "gradf = jax.grad(f1, argnums=(0, 1), has_aux=False)\n",
    "jit_gradf = jax.jit(gradf)"
   ]
  },
  {
   "cell_type": "markdown",
   "metadata": {},
   "source": [
    "## 0. Dataset"
   ]
  },
  {
   "cell_type": "code",
   "execution_count": 7,
   "metadata": {
    "scrolled": false
   },
   "outputs": [
    {
     "name": "stderr",
     "output_type": "stream",
     "text": [
      "WARNING:absl:No GPU/TPU found, falling back to CPU. (Set TF_CPP_MIN_LOG_LEVEL=0 and rerun for more info.)\n"
     ]
    },
    {
     "data": {
      "text/plain": [
       "(array([0., 0.]), 0.0)"
      ]
     },
     "execution_count": 7,
     "metadata": {},
     "output_type": "execute_result"
    }
   ],
   "source": [
    "sigma=0\n",
    "n = 1\n",
    "def gradf(x):\n",
    "    z = jit_gradf(x[:n], x[n:])\n",
    "    g = np.hstack([np.array(i.block_until_ready()) for i in z])\n",
    "    return g\n",
    "f2 = lambda x: f1(x[:n], x[n:])\n",
    "gradf(np.array([1., 1.])), f2(np.array([1., 1.]))"
   ]
  },
  {
   "cell_type": "code",
   "execution_count": null,
   "metadata": {},
   "outputs": [],
   "source": []
  },
  {
   "cell_type": "markdown",
   "metadata": {},
   "source": [
    "## 1. Noise Distributed on the Unit Sphere\n",
    "\n",
    "The case when $\\xi \\sim \\mathcal{U}(S_1(0))$"
   ]
  },
  {
   "cell_type": "markdown",
   "metadata": {},
   "source": [
    "$$\\begin{bmatrix}400x_1^2 + 100& 20x_1\\\\ 20x_1& 1\\end{bmatrix}$$"
   ]
  },
  {
   "cell_type": "code",
   "execution_count": 25,
   "metadata": {
    "scrolled": false
   },
   "outputs": [
    {
     "name": "stdout",
     "output_type": "stream",
     "text": [
      "1.0\n",
      "1\n",
      "1e-08\n",
      "\t0.0001\t7266\t2273.26\t0.999401\t2.70\t8.932739872386502e-08\n",
      "\n",
      "\n",
      "1e-06\n",
      "\t0.001\t5412\t2594.61\t0.993672\t2.90\t9.971167963631686e-06\n",
      "\n",
      "\n",
      "0.0001\n",
      "\t0.01\t3690\t3163.32\t0.939691\t2.61\t0.0008946273125060978\n",
      "\n",
      "\n",
      "\n",
      "\n",
      "\n",
      "3\n",
      "1e-08\n",
      "\t0.0001\t7188\t2615.61\t0.999348\t2.99\t1.0607687717040395e-07\n",
      "\n",
      "\n",
      "1e-06\n",
      "\t0.001\t5493\t2490.56\t0.993467\t3.00\t1.0627427748525307e-05\n",
      "\n",
      "\n",
      "0.0001\n",
      "\t0.01\t3536\t3031.05\t0.930571\t2.99\t0.0011833792404510569\n",
      "\n",
      "\n",
      "\n",
      "\n",
      "\n",
      "4\n",
      "1e-08\n",
      "\t0.0001\t7491\t2301.32\t0.999672\t1.54\t2.6800439879705168e-08\n",
      "\n",
      "\n",
      "1e-06\n",
      "\t0.001\t5697\t2490.32\t0.996908\t1.87\t2.3825303215698196e-06\n",
      "\n",
      "\n",
      "0.0001\n",
      "\t0.01\t3965\t3485.89\t0.965341\t1.93\t0.000297111879670701\n",
      "\n",
      "\n",
      "\n",
      "\n",
      "\n"
     ]
    }
   ],
   "source": [
    "eps_list = [1e-8, 1e-6, 1e-4]\n",
    "\n",
    "n = 1\n",
    "dtype_list = [1, 3, 4]\n",
    "\n",
    "w = np.ones(2*n)*2\n",
    "w = np.array([1., 2.])\n",
    "v = np.random.randn(2*n)\n",
    "v = np.array([1., 0.])\n",
    "res = {d:{\"delta\":[], \n",
    "           \"iters_adaptL\":[], \"time_adaptL\":[], \"adaptL,x0-x*\": [], \"normg_adaptL\": [],\n",
    "           \"iters_exact\":[], \"time_exact\":[], \"exact,x0-x*\": [], \"normg_exact\": [], \"residual_adaptL\":[],\n",
    "          \"iters_adaptLdelta\":[], \"time_adaptLdelta\":[], \"adaptLdelta,x0-x*\": [], \"normg_adaptLdelta\": []} for d in dtype_list}\n",
    "mu_list = {}\n",
    "number = 10\n",
    "save_iter = 1\n",
    "N = 10000\n",
    "methods = []\n",
    "np.random.seed(1)\n",
    "print(np.linalg.norm(w-np.array([1, 1])))\n",
    "for d in dtype_list:\n",
    "    print(d)\n",
    "    for eps in eps_list:\n",
    "        mu = 1e-6\n",
    "        Delta = np.sqrt(eps)\n",
    "        f = lambda x: f2(x) + eps * np.random.uniform(-1, 1)\n",
    "        res[d][\"delta\"].append(int(np.log10(Delta)))\n",
    "        tol = 2*Delta\n",
    "\n",
    "\n",
    "        grad_inexact = lambda w: gradf_inexact(w, gradf, Delta, d, v=v)\n",
    "        print(eps)\n",
    "        method = GradientDescent(AdaptiveL(L0=1, Delta=Delta, Lmin=mu/4, delta=eps), name=\"GD, Delta={}\".format(Delta), save_iter=save_iter)\n",
    "        x = method.solve(w, f, grad_inexact, tol=tol, max_iter=N)\n",
    "        g = lambda: GradientDescent(AdaptiveL(L0=1, Delta=Delta, Lmin=mu/4),\n",
    "                                    return_history=False).solve(w, f, grad_inexact, tol=tol, max_iter=N)\n",
    "        T = timeit.timeit(g, number=number)/number        \n",
    "        print(\"\\t{}\\t{}\\t{:.2f}\\t{:.6f}\\t{:.2f}\\t{}\".format(Delta, len(method.history), T*1000, np.linalg.norm(x-w), \n",
    "                                                np.linalg.norm(gradf(x))/Delta, f2(x)))\n",
    "        methods.append(method)\n",
    "        res[d][\"iters_adaptL\"].append(len(method.history))\n",
    "        res[d][\"time_adaptL\"].append(\"{:.2f}\".format(T*1000))\n",
    "        res[d][\"adaptL,x0-x*\"].append(\"{:.3f}\".format(np.linalg.norm(x-w)))\n",
    "        res[d][\"normg_adaptL\"].append(\"{:.2f}\".format(np.linalg.norm(gradf(x))/Delta))\n",
    "        res[d][\"residual_adaptL\"].append(f2(x))\n",
    "\n",
    "\n",
    "#         method = AdaptiveNoiseGD(AdaptiveLdelta(L0=1, mindelta=1e-12, Lmin=mu/4, mu=mu, delta_alpha=2.1), name=\"GD, Delta={}\".format(Delta), save_iter=save_iter, alpha=np.sqrt(6))\n",
    "#         x = method.solve(w, f, grad_inexact, max_iter=N)\n",
    "#         g = lambda: AdaptiveNoiseGD(AdaptiveLdelta(L0=1, mindelta=1e-12, Lmin=mu/4, mu=mu), return_history=False, \n",
    "#                                     alpha=np.sqrt(6)).solve(w, f, grad_inexact, max_iter=N)\n",
    "#         T = timeit.timeit(g, number=number)/number        \n",
    "#         print(\"\\t{}\\t{}\\t{:.2f}\\t{:.6f}\\t{:.2f}\\t{}\".format(Delta, len(method.history), T*1000, np.linalg.norm(x-w), \n",
    "#                                                 np.linalg.norm(gradf(x))/Delta, f(x)))\n",
    "#         methods.append(method)\n",
    "#         res[d][\"iters_adaptLdelta\"].append(len(method.history))\n",
    "#         res[d][\"time_adaptLdelta\"].append(\"{:.2f}\".format(T*1000))\n",
    "#         res[d][\"adaptLdelta,x0-x*\"].append(\"{:.3f}\".format(np.linalg.norm(x-w)))\n",
    "#         res[d][\"normg_adaptLdelta\"].append(\"{:.2f}\".format(np.linalg.norm(gradf(x))/Delta))     \n",
    "        print(\"\\n\")\n",
    "    print(\"\\n\\n\")\n"
   ]
  },
  {
   "cell_type": "code",
   "execution_count": 26,
   "metadata": {},
   "outputs": [
    {
     "name": "stdout",
     "output_type": "stream",
     "text": [
      "1 & \\begin{tabular}{@{}c@{}} $10^{-4}$ \\\\ $10^{-3}$ \\\\ $10^{-2}$ \\end{tabular}&\\begin{tabular}{@{}c@{}} $7266$ \\\\ $5412$ \\\\ $3690$ \\end{tabular}&\\begin{tabular}{@{}c@{}} $2273.26$ \\\\ $2594.61$ \\\\ $3163.32$ \\end{tabular}&\\begin{tabular}{@{}c@{}} $0.999$ \\\\ $0.994$ \\\\ $0.940$ \\end{tabular}&\\begin{tabular}{@{}c@{}} $2.70$ \\\\ $2.90$ \\\\ $2.61$ \\end{tabular}&\\begin{tabular}{@{}c@{}} $0.89 \\cdot 10^{-7}$ \\\\ $1.00 \\cdot 10^{-5}$ \\\\ $0.89 \\cdot 10^{-3}$ \\end{tabular}\\\\\n",
      "\\hline\n",
      "3 & \\begin{tabular}{@{}c@{}} $10^{-4}$ \\\\ $10^{-3}$ \\\\ $10^{-2}$ \\end{tabular}&\\begin{tabular}{@{}c@{}} $7188$ \\\\ $5493$ \\\\ $3536$ \\end{tabular}&\\begin{tabular}{@{}c@{}} $2615.61$ \\\\ $2490.56$ \\\\ $3031.05$ \\end{tabular}&\\begin{tabular}{@{}c@{}} $0.999$ \\\\ $0.993$ \\\\ $0.931$ \\end{tabular}&\\begin{tabular}{@{}c@{}} $2.99$ \\\\ $3.00$ \\\\ $2.99$ \\end{tabular}&\\begin{tabular}{@{}c@{}} $0.11 \\cdot 10^{-6}$ \\\\ $0.11 \\cdot 10^{-4}$ \\\\ $0.12 \\cdot 10^{-2}$ \\end{tabular}\\\\\n",
      "\\hline\n",
      "4 & \\begin{tabular}{@{}c@{}} $10^{-4}$ \\\\ $10^{-3}$ \\\\ $10^{-2}$ \\end{tabular}&\\begin{tabular}{@{}c@{}} $7491$ \\\\ $5697$ \\\\ $3965$ \\end{tabular}&\\begin{tabular}{@{}c@{}} $2301.32$ \\\\ $2490.32$ \\\\ $3485.89$ \\end{tabular}&\\begin{tabular}{@{}c@{}} $1.000$ \\\\ $0.997$ \\\\ $0.965$ \\end{tabular}&\\begin{tabular}{@{}c@{}} $1.54$ \\\\ $1.87$ \\\\ $1.93$ \\end{tabular}&\\begin{tabular}{@{}c@{}} $0.27 \\cdot 10^{-7}$ \\\\ $0.24 \\cdot 10^{-5}$ \\\\ $0.30 \\cdot 10^{-3}$ \\end{tabular}\\\\\n",
      "\\hline\n",
      "\n"
     ]
    }
   ],
   "source": [
    "s = \"\"\n",
    "\n",
    "for d in dtype_list:\n",
    "    s += str(d) + \" & \"\n",
    "\n",
    "    cur_list = [\"$10^{{{}}}$\".format(i) for i in res[d][\"delta\"]]\n",
    "    s+= \"\\\\begin{tabular}{@{}c@{}} \" + \" \\\\\\\\ \".join(cur_list) + \" \\\\end{tabular}&\"\n",
    "\n",
    "    cur_list = [\"${}$\".format(i) for i in res[d][\"iters_adaptL\"]]\n",
    "    s+= \"\\\\begin{tabular}{@{}c@{}} \" + \" \\\\\\\\ \".join(cur_list) + \" \\\\end{tabular}&\"\n",
    "    cur_list = [\"${}$\".format(i) for i in res[d][\"time_adaptL\"]]\n",
    "    s+= \"\\\\begin{tabular}{@{}c@{}} \" + \" \\\\\\\\ \".join(cur_list) + \" \\\\end{tabular}&\"\n",
    "    \n",
    "    cur_list = [\"${}$\".format(i) for i in res[d][\"adaptL,x0-x*\"]]\n",
    "    s+= \"\\\\begin{tabular}{@{}c@{}} \" + \" \\\\\\\\ \".join(cur_list) + \" \\\\end{tabular}&\"\n",
    "    cur_list = [\"${}$\".format(i) for i in res[d][\"normg_adaptL\"]]\n",
    "    s+= \"\\\\begin{tabular}{@{}c@{}} \" + \" \\\\\\\\ \".join(cur_list) + \" \\\\end{tabular}&\"\n",
    "    \n",
    "    cur_list1 = [(i/10**(int(np.log10(i))), int(np.log10(i))) for i in res[d][\"residual_adaptL\"]]\n",
    "    cur_list = []\n",
    "    for a, b in cur_list1:\n",
    "        if b != 0:\n",
    "            cur_list.append(\"${:.2f} \\\\cdot 10^{{{}}}$\".format(a, b))\n",
    "        else:\n",
    "            cur_list.append(\"${:.2f}$\".format(a))\n",
    "    s+= \"\\\\begin{tabular}{@{}c@{}} \" + \" \\\\\\\\ \".join(cur_list) + \" \\\\end{tabular}\"\n",
    "\n",
    "    s+= \"\\\\\\\\\\n\\\\hline\\n\"\n",
    "print(s)"
   ]
  },
  {
   "cell_type": "markdown",
   "metadata": {},
   "source": [
    "# Visualization"
   ]
  },
  {
   "cell_type": "code",
   "execution_count": 8,
   "metadata": {},
   "outputs": [],
   "source": [
    "def gradf_inexact(w, gradf, Delta=0, dtype=1, v=None):\n",
    "    n = len(w)\n",
    "    g = gradf(w)\n",
    "    xi = np.random.normal(0, 1, (n,))\n",
    "    if dtype == 1:\n",
    "        xi /= np.linalg.norm(xi)\n",
    "    elif dtype == 2:\n",
    "        xi /= n\n",
    "    elif dtype == 3:\n",
    "        xi = -g.copy()\n",
    "        xi /= np.linalg.norm(xi)\n",
    "    elif dtype == 4:\n",
    "        xi = v / np.linalg.norm(v)\n",
    "    assert np.linalg.norm(xi) <= 1 + 1e-9, \"xi has no 1 norm\"\n",
    "    return g + Delta * xi"
   ]
  },
  {
   "cell_type": "code",
   "execution_count": 16,
   "metadata": {},
   "outputs": [
    {
     "name": "stdout",
     "output_type": "stream",
     "text": [
      "1.6311076134571192 0.014371785674047125 10\n",
      "0.1 0.01\n",
      "[0.06155362 0.01393271] [0.1590863  0.03600932]\n",
      "[1.02716753 1.04926767]\n",
      "0.0041084041564965375\n",
      "0.0041084041564965375\n",
      "3 27.01814653240872 0.0041084041564965375 100002\n"
     ]
    }
   ],
   "source": [
    "np.random.seed(1)\n",
    "methods = []\n",
    "v = np.array([1., 0.])\n",
    "w = np.array([2, 1.])\n",
    "\n",
    "N = 15000\n",
    "\n",
    "eps = 1e-2\n",
    "Delta = 1e-1\n",
    "tol = 2*Delta\n",
    "save_iter = 1\n",
    "\n",
    "\n",
    "mu = 1e-6\n",
    "\n",
    "eps, Delta = 0, 0\n",
    "f = lambda x: f2(x) + eps * np.random.uniform(-1, 1)\n",
    "grad_inexact = lambda w: gradf_inexact(w, gradf, Delta, 1, v=v)\n",
    "method = GradientDescent(AdaptiveL(L0=1, Delta=Delta, Lmin=mu/4, delta=eps), name=\"GD, Delta={}\".format(Delta), save_iter=save_iter)\n",
    "x = method.solve(w, f, grad_inexact, tol=tol, max_iter=N)\n",
    "Delta = 1e-1\n",
    "print(np.linalg.norm(gradf(x))/Delta, f(x), len(method.history))\n",
    "methods.append(method)\n",
    "    \n",
    "\n",
    "    \n",
    "eps = 0.01\n",
    "Delta = 3\n",
    "grad_name = {1:\"random inexactness\",3:\"-gradient\",4:\"constant inexactness\",}\n",
    "N = 100000\n",
    "#for dtype in [1]:\n",
    "for dtype in [3]:\n",
    "    mu = 1e-6\n",
    "    Delta = np.sqrt(eps)\n",
    "    print(Delta, eps)\n",
    "    f = lambda x: f2(x) + eps * np.random.uniform(-1, 1)\n",
    "    tol = 0\n",
    "    grad_inexact = lambda w: gradf_inexact(w, gradf, Delta, dtype, v=v)\n",
    "    print(grad_inexact(x), gradf(x))\n",
    "    method = GradientDescent(AdaptiveL(L0=1, Delta=Delta, Lmin=mu/4, delta=eps), name=\"{}\".format(grad_name[dtype]), save_iter=save_iter)\n",
    "    x = method.solve(w, f, grad_inexact, tol=tol, max_iter=N)\n",
    "    print(x)\n",
    "    print(100*(x[1]-x[0]**2)**2+(x[0]-1)**2)\n",
    "    print(f2(x))\n",
    "    print(dtype, np.linalg.norm(gradf(x))/Delta, f2(x), len(method.history), np.linalg.norm(x-w))\n",
    "    methods.append(method)"
   ]
  },
  {
   "cell_type": "code",
   "execution_count": 18,
   "metadata": {
    "scrolled": false
   },
   "outputs": [
    {
     "data": {
      "image/png": "[encoded data removed]",
      "text/plain": [
       "<Figure size 576x576 with 1 Axes>"
      ]
     },
     "metadata": {
      "needs_background": "light"
     },
     "output_type": "display_data"
    }
   ],
   "source": [
    "%matplotlib inline\n",
    "l = 240\n",
    "k = 100\n",
    "x, y = np.mgrid[-l:l,\n",
    "                -l:l]\n",
    "x = x / k\n",
    "y = y/k\n",
    "z = np.zeros((2*l, 2*l))\n",
    "f = lambda x: f2(x)\n",
    "\n",
    "\n",
    "for i in range(2*l):\n",
    "    for j in range(2*l):\n",
    "        z[i, j] = f(np.array([x[i, j], y[i, j]]))\n",
    "z = (np.log(z+1)+1)\n",
    "fig, ax = plt.subplots()\n",
    "ax.contourf(x, y, z, levels=20)\n",
    "\n",
    "color = [\"r\", \"y\", \"green\", \"b\"]\n",
    "for indm, method in enumerate(methods[1:]):\n",
    "    xhistory = method.history\n",
    "    x_list = np.array([x for x, _ in xhistory])\n",
    "    plt.plot(x_list[:, 0], x_list[:, 1], color=color[indm], label=method.name)\n",
    "    for ind in range(0, len(x_list)-1, 50):\n",
    "        x, y = x_list[ind, 0], x_list[ind,1]\n",
    "        dx, dy = x_list[ind+1, 0] - x_list[ind, 0], x_list[ind+1,1] - x_list[ind,1]\n",
    "        head_width=0.01\n",
    "        ax.arrow(x, y, dx, dy, color=color[indm], head_width=head_width)\n",
    "plt.legend()\n",
    "\n",
    "fig.set_figwidth(8)    #  ширина и\n",
    "fig.set_figheight(8)    #  высота \"Figure\"\n",
    "\n",
    "plt.xlim(-2, 2.2)\n",
    "plt.ylim(-0.5, 1.5)\n",
    "plt.savefig(os.path.join(path_pics, \"lines_rosenbrock.png\"))"
   ]
  },
  {
   "cell_type": "code",
   "execution_count": 39,
   "metadata": {},
   "outputs": [
    {
     "data": {
      "image/png": "[encoded data removed]",
      "text/plain": [
       "<Figure size 576x576 with 1 Axes>"
      ]
     },
     "metadata": {
      "needs_background": "light"
     },
     "output_type": "display_data"
    }
   ],
   "source": [
    "%matplotlib inline\n",
    "l = 100\n",
    "x, y = np.mgrid[-l:l,\n",
    "                -l:l]\n",
    "x = x / 50\n",
    "y = y/50\n",
    "z = np.zeros((2*l, 2*l))\n",
    "f = lambda x: f2(x)\n",
    "\n",
    "for i in range(2*100):\n",
    "    for j in range(2*100):\n",
    "        z[i, j] = f(np.array([x[i, j], y[i, j]]))\n",
    "#z = np.log(z+1e-16)+16\n",
    "fig, ax = plt.subplots()\n",
    "ax.contourf(x, y, z, levels=50)\n",
    "\n",
    "\n",
    "color = [\"r\", \"y\", \"green\", \"b\"]\n",
    "for indm, method in enumerate(methods):\n",
    "    xhistory = method.history\n",
    "    x_list = np.array([x for x, _ in xhistory])\n",
    "    plt.scatter([x_list[-1, 0]], [x_list[-1, 1]], color=color[indm], label=method.name)\n",
    "plt.legend()\n",
    "\n",
    "fig.set_figwidth(8)    #  ширина и\n",
    "fig.set_figheight(8)    #  высота \"Figure\"\n",
    "\n",
    "plt.xlim(-2, 2)\n",
    "plt.ylim(-2, 2)\n",
    "plt.savefig(os.path.join(path_pics, \"lines_rosenbrock.png\"))"
   ]
  },
  {
   "cell_type": "code",
   "execution_count": null,
   "metadata": {},
   "outputs": [],
   "source": []
  }
 ],
 "metadata": {
  "anaconda-cloud": {},
  "kernelspec": {
   "display_name": "Python 3",
   "language": "python",
   "name": "python3"
  },
  "language_info": {
   "codemirror_mode": {
    "name": "ipython",
    "version": 3
   },
   "file_extension": ".py",
   "mimetype": "text/x-python",
   "name": "python",
   "nbconvert_exporter": "python",
   "pygments_lexer": "ipython3",
   "version": "3.7.3"
  }
 },
 "nbformat": 4,
 "nbformat_minor": 1
}
