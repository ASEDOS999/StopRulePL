{
 "cells": [
  {
   "cell_type": "markdown",
   "metadata": {
    "slideshow": {
     "slide_type": "slide"
    }
   },
   "source": [
    "# Experiments 7. Nesterov-Skokov Function\n",
    "\n",
    "We will minimize\n",
    "\n",
    "$$f(x) = \\frac{1}{4}(1-x_1)^2+\\sum\\limits_{i=1}^{n-1}\\left(x_{i+1}-2x_i^2 + 1\\right)^2.$$\n"
   ]
  },
  {
   "cell_type": "code",
   "execution_count": 2,
   "metadata": {},
   "outputs": [],
   "source": [
    "import numpy as np\n",
    "import os\n",
    "import matplotlib\n",
    "import matplotlib.pyplot as plt\n",
    "import jax\n",
    "import jax.numpy as jnp\n",
    "import timeit\n",
    "from jax.config import config"
   ]
  },
  {
   "cell_type": "code",
   "execution_count": 3,
   "metadata": {},
   "outputs": [],
   "source": [
    "from methods import gradf_inexact\n",
    "from methods import GradientDescent, parse_logs, AdaptiveL, StepSize, AdaptiveNoiseGD\n",
    "from methods import ConstantStepSize, AdaptiveLdelta"
   ]
  },
  {
   "cell_type": "code",
   "execution_count": 4,
   "metadata": {},
   "outputs": [],
   "source": [
    "matplotlib.use('Agg')\n",
    "params = {'legend.fontsize': 20,\n",
    "          'legend.handlelength': 4,\n",
    "          \"axes.labelsize\": 45,\n",
    "          \"xtick.labelsize\": 25,\n",
    "          \"ytick.labelsize\": 25,\n",
    "          \"lines.linewidth\": 2,\n",
    "           \"axes.titlesize\":30}\n",
    "matplotlib.rcParams.update(params)"
   ]
  },
  {
   "cell_type": "code",
   "execution_count": 5,
   "metadata": {},
   "outputs": [],
   "source": [
    "config.update(\"jax_enable_x64\", True)"
   ]
  },
  {
   "cell_type": "code",
   "execution_count": 6,
   "metadata": {},
   "outputs": [],
   "source": [
    "path_pics = \"../pics/\""
   ]
  },
  {
   "cell_type": "code",
   "execution_count": 27,
   "metadata": {
    "scrolled": false
   },
   "outputs": [
    {
     "data": {
      "text/plain": [
       "array([0., 0.])"
      ]
     },
     "execution_count": 27,
     "metadata": {},
     "output_type": "execute_result"
    }
   ],
   "source": [
    "def f1(x, n):\n",
    "    G = 1/4*(1-x[0])**2\n",
    "    for i in range(n-1):\n",
    "        G += (x[i+1] - 2 * x[i]**2 +1)**2\n",
    "    return G.sum()\n",
    "gradf = jax.grad(f1, argnums=(0,), has_aux=False)\n",
    "jit_gradf = jax.jit(gradf)\n",
    "gradf = lambda x: np.hstack([np.array(i.block_until_ready()) for i in jit_gradf(x)])\n",
    "\n",
    "def get_params(n):\n",
    "    f = lambda x: f1(x, n)\n",
    "    gradf = jax.grad(f, argnums=(0,), has_aux=False)\n",
    "    jit_gradf = jax.jit(gradf)\n",
    "    gradf = lambda x: np.hstack([np.array(i.block_until_ready()) for i in jit_gradf(x)])\n",
    "    return gradf, f\n",
    "gradf, f = get_params(2)\n",
    "gradf(np.ones(2))"
   ]
  },
  {
   "cell_type": "markdown",
   "metadata": {},
   "source": [
    "## 1. Noise Distributed on the Unit Sphere\n",
    "\n",
    "The case when $\\xi \\sim \\mathcal{U}(S_1(0))$"
   ]
  },
  {
   "cell_type": "code",
   "execution_count": 45,
   "metadata": {
    "scrolled": false
   },
   "outputs": [
    {
     "name": "stdout",
     "output_type": "stream",
     "text": [
      "2\n",
      "3\n",
      "1.0 1.0\n",
      "1e-08\n",
      "\t0.0001\t13641\t1838.11\t1.996474\t2.88\t2.073095046495774e-05\n",
      "\n",
      "\n",
      "1e-06\n",
      "\t0.001\t2563\t326.36\t2.147914\t2.88\t0.0010854164066831924\n",
      "\n",
      "\n",
      "0.0001\n",
      "\t0.01\t517\t67.69\t2.746849\t2.88\t0.01267056251194494\n",
      "\n",
      "\n",
      "\n",
      "\n",
      "5\n",
      "1.0 1.0\n",
      "1e-08\n",
      "\t0.0001\t68021\t10052.45\t2.910212\t2.93\t0.00032773964007254245\n",
      "\n",
      "\n",
      "1e-06\n",
      "\t0.001\t15340\t2032.23\t3.309149\t2.62\t0.004876602167643842\n",
      "\n",
      "\n",
      "0.0001\n",
      "\t0.01\t6\t1.12\t0.035136\t1.94\t0.9830409409279663\n",
      "\n",
      "\n",
      "\n",
      "\n",
      "7\n",
      "1.0 1.0\n",
      "1e-08\n",
      "\t0.0001\t499806\t51.71\t3.037382\t1.96\t0.0011236712731749492\n",
      "\n",
      "\n",
      "1e-06\n",
      "\t0.001\t128\t1.88\t0.035686\t2.67\t0.9830308879593596\n",
      "\n",
      "\n",
      "0.0001\n",
      "\t0.01\t28\t1.12\t0.035468\t2.21\t0.9830369598743012\n",
      "\n",
      "\n",
      "\n",
      "\n"
     ]
    }
   ],
   "source": [
    "eps_list = [1e-8, 1e-6, 1e-4]\n",
    "\n",
    "n = 1\n",
    "n_list = [3, 5, 7]\n",
    "\n",
    "res = {n:{\"delta\":[], \n",
    "           \"iters_adaptL\":[], \"time_adaptL\":[], \"adaptL,x0-x*\": [], \"normg_adaptL\": [],\n",
    "           \"iters_exact\":[], \"time_exact\":[], \"exact,x0-x*\": [], \"normg_exact\": [],\n",
    "          \"residual_adaptL\":[],\n",
    "          \"iters_adaptLdelta\":[], \"time_adaptLdelta\":[], \"adaptLdelta,x0-x*\": [], \"normg_adaptLdelta\": []} for n in n_list}\n",
    "mu_list = {}\n",
    "number = 10\n",
    "save_iter = 1\n",
    "N = 900000\n",
    "methods = []\n",
    "np.random.seed(1)\n",
    "print(2)\n",
    "for n in n_list:\n",
    "    print(n)\n",
    "    gradf, f = get_params(n)\n",
    "    w = np.ones(n)\n",
    "    w[0] *= -1\n",
    "    print(np.linalg.norm(gradf(w)), f(w))\n",
    "    for eps in eps_list:\n",
    "        mu = 1e-6\n",
    "        Delta = np.sqrt(eps)\n",
    "        res[n][\"delta\"].append(int(np.log10(Delta)))\n",
    "        tol = 2*Delta\n",
    "\n",
    "\n",
    "        grad_inexact = lambda w: gradf_inexact(w, gradf, Delta, 1)\n",
    "        print(eps)\n",
    "        method = GradientDescent(AdaptiveL(L0=1, Delta=Delta, Lmin=mu/4, delta=eps), name=\"GD, Delta={}\".format(Delta), save_iter=save_iter)\n",
    "        x = method.solve(w, f, grad_inexact, tol=tol, max_iter=N)\n",
    "        g = lambda: GradientDescent(AdaptiveL(L0=1, Delta=Delta, Lmin=mu/4),\n",
    "                                    return_history=False).solve(w, f, grad_inexact, tol=tol, max_iter=N)\n",
    "        if len(method.history) > 10000:\n",
    "            number = 1\n",
    "        else:\n",
    "            number = 10\n",
    "        T = timeit.timeit(g, number=number)/number        \n",
    "        print(\"\\t{}\\t{}\\t{:.2f}\\t{:.6f}\\t{:.2f}\\t{}\".format(Delta, len(method.history), T*1000, np.linalg.norm(x-w), \n",
    "                                                np.linalg.norm(gradf(x))/Delta, f(x)))\n",
    "        methods.append(method)\n",
    "        res[n][\"iters_adaptL\"].append(len(method.history))\n",
    "        res[n][\"time_adaptL\"].append(\"{:.2f}\".format(T*1000))\n",
    "        res[n][\"adaptL,x0-x*\"].append(\"{:.3f}\".format(np.linalg.norm(x-w)))\n",
    "        res[n][\"normg_adaptL\"].append(\"{:.2f}\".format(np.linalg.norm(gradf(x))/Delta))\n",
    "        res[n][\"residual_adaptL\"].append(f(x))\n",
    "        print(\"\\n\")\n",
    "    print(\"\\n\")"
   ]
  },
  {
   "cell_type": "code",
   "execution_count": 46,
   "metadata": {},
   "outputs": [
    {
     "name": "stdout",
     "output_type": "stream",
     "text": [
      "3 & \\begin{tabular}{@{}c@{}} $10^{-4}$ \\\\ $10^{-3}$ \\\\ $10^{-2}$ \\end{tabular}&\\begin{tabular}{@{}c@{}} $13641$ \\\\ $2563$ \\\\ $517$ \\end{tabular}&\\begin{tabular}{@{}c@{}} $1838.11$ \\\\ $326.36$ \\\\ $67.69$ \\end{tabular}&\\begin{tabular}{@{}c@{}} $1.996$ \\\\ $2.148$ \\\\ $2.747$ \\end{tabular}&\\begin{tabular}{@{}c@{}} $2.88$ \\\\ $2.88$ \\\\ $2.88$ \\end{tabular}&\\begin{tabular}{@{}c@{}} $0.21 \\cdot 10^{-4}$ \\\\ $0.11 \\cdot 10^{-2}$ \\\\ $0.13 \\cdot 10^{-1}$ \\end{tabular}\\\\\n",
      "\\hline\n",
      "5 & \\begin{tabular}{@{}c@{}} $10^{-4}$ \\\\ $10^{-3}$ \\\\ $10^{-2}$ \\end{tabular}&\\begin{tabular}{@{}c@{}} $68021$ \\\\ $15340$ \\\\ $6$ \\end{tabular}&\\begin{tabular}{@{}c@{}} $10052.45$ \\\\ $2032.23$ \\\\ $1.12$ \\end{tabular}&\\begin{tabular}{@{}c@{}} $2.910$ \\\\ $3.309$ \\\\ $0.035$ \\end{tabular}&\\begin{tabular}{@{}c@{}} $2.93$ \\\\ $2.62$ \\\\ $1.94$ \\end{tabular}&\\begin{tabular}{@{}c@{}} $0.33 \\cdot 10^{-3}$ \\\\ $0.49 \\cdot 10^{-2}$ \\\\ $0.98$ \\end{tabular}\\\\\n",
      "\\hline\n",
      "7 & \\begin{tabular}{@{}c@{}} $10^{-4}$ \\\\ $10^{-3}$ \\\\ $10^{-2}$ \\end{tabular}&\\begin{tabular}{@{}c@{}} $499806$ \\\\ $128$ \\\\ $28$ \\end{tabular}&\\begin{tabular}{@{}c@{}} $51.71$ \\\\ $1.88$ \\\\ $1.12$ \\end{tabular}&\\begin{tabular}{@{}c@{}} $3.037$ \\\\ $0.036$ \\\\ $0.035$ \\end{tabular}&\\begin{tabular}{@{}c@{}} $1.96$ \\\\ $2.67$ \\\\ $2.21$ \\end{tabular}&\\begin{tabular}{@{}c@{}} $0.11 \\cdot 10^{-2}$ \\\\ $0.98$ \\\\ $0.98$ \\end{tabular}\\\\\n",
      "\\hline\n",
      "\n"
     ]
    }
   ],
   "source": [
    "s = \"\"\n",
    "\n",
    "for d in n_list:\n",
    "    s += str(d) + \" & \"\n",
    "\n",
    "    cur_list = [\"$10^{{{}}}$\".format(i) for i in res[d][\"delta\"]]\n",
    "    s+= \"\\\\begin{tabular}{@{}c@{}} \" + \" \\\\\\\\ \".join(cur_list) + \" \\\\end{tabular}&\"\n",
    "\n",
    "    cur_list = [\"${}$\".format(i) for i in res[d][\"iters_adaptL\"]]\n",
    "    s+= \"\\\\begin{tabular}{@{}c@{}} \" + \" \\\\\\\\ \".join(cur_list) + \" \\\\end{tabular}&\"\n",
    "    cur_list = [\"${}$\".format(i) for i in res[d][\"time_adaptL\"]]\n",
    "    s+= \"\\\\begin{tabular}{@{}c@{}} \" + \" \\\\\\\\ \".join(cur_list) + \" \\\\end{tabular}&\"\n",
    "    \n",
    "    cur_list = [\"${}$\".format(i) for i in res[d][\"adaptL,x0-x*\"]]\n",
    "    s+= \"\\\\begin{tabular}{@{}c@{}} \" + \" \\\\\\\\ \".join(cur_list) + \" \\\\end{tabular}&\"\n",
    "    cur_list = [\"${}$\".format(i) for i in res[d][\"normg_adaptL\"]]\n",
    "    s+= \"\\\\begin{tabular}{@{}c@{}} \" + \" \\\\\\\\ \".join(cur_list) + \" \\\\end{tabular}&\"\n",
    "    \n",
    "    cur_list1 = [(i/10**(int(np.log10(i))), int(np.log10(i))) for i in res[d][\"residual_adaptL\"]]\n",
    "    cur_list = []\n",
    "    for a, b in cur_list1:\n",
    "        if b != 0:\n",
    "            cur_list.append(\"${:.2f} \\\\cdot 10^{{{}}}$\".format(a, b))\n",
    "        else:\n",
    "            cur_list.append(\"${:.2f}$\".format(a))\n",
    "\n",
    "    s+= \"\\\\begin{tabular}{@{}c@{}} \" + \" \\\\\\\\ \".join(cur_list) + \" \\\\end{tabular}\"\n",
    "\n",
    "    s+= \"\\\\\\\\\\n\\\\hline\\n\"\n",
    "print(s)"
   ]
  },
  {
   "cell_type": "code",
   "execution_count": 38,
   "metadata": {},
   "outputs": [
    {
     "data": {
      "text/plain": [
       "[0.9830310981506949, 0.9830357013830413]"
      ]
     },
     "execution_count": 38,
     "metadata": {},
     "output_type": "execute_result"
    }
   ],
   "source": [
    "res[d][\"residual_adaptL\"]"
   ]
  },
  {
   "cell_type": "code",
   "execution_count": null,
   "metadata": {},
   "outputs": [],
   "source": []
  }
 ],
 "metadata": {
  "anaconda-cloud": {},
  "kernelspec": {
   "display_name": "Python 3",
   "language": "python",
   "name": "python3"
  },
  "language_info": {
   "codemirror_mode": {
    "name": "ipython",
    "version": 3
   },
   "file_extension": ".py",
   "mimetype": "text/x-python",
   "name": "python",
   "nbconvert_exporter": "python",
   "pygments_lexer": "ipython3",
   "version": "3.7.3"
  }
 },
 "nbformat": 4,
 "nbformat_minor": 1
}
