{
 "cells": [
  {
   "cell_type": "markdown",
   "metadata": {
    "slideshow": {
     "slide_type": "slide"
    }
   },
   "source": [
    "# Experiments 7. Nesterov-Skokov Function\n",
    "\n",
    "We will minimize\n",
    "\n",
    "$$f(x) = \\frac{1}{4}(1-x_1)^2+\\sum\\limits_{i=1}^{n-1}\\left(x_{i+1}-2x_i^2 + 1\\right)^2.$$\n"
   ]
  },
  {
   "cell_type": "code",
   "execution_count": 8,
   "metadata": {},
   "outputs": [],
   "source": [
    "import numpy as np\n",
    "import os\n",
    "import matplotlib\n",
    "import matplotlib.pyplot as plt\n",
    "import jax\n",
    "import jax.numpy as jnp\n",
    "import timeit\n",
    "from jax.config import config"
   ]
  },
  {
   "cell_type": "code",
   "execution_count": 9,
   "metadata": {},
   "outputs": [],
   "source": [
    "from methods import gradf_inexact\n",
    "from methods import GradientDescent, parse_logs, AdaptiveL, StepSize, AdaptiveNoiseGD\n",
    "from methods import ConstantStepSize, AdaptiveLdelta"
   ]
  },
  {
   "cell_type": "code",
   "execution_count": 10,
   "metadata": {},
   "outputs": [],
   "source": [
    "matplotlib.use('Agg')\n",
    "params = {'legend.fontsize': 20,\n",
    "          'legend.handlelength': 4,\n",
    "          \"axes.labelsize\": 45,\n",
    "          \"xtick.labelsize\": 25,\n",
    "          \"ytick.labelsize\": 25,\n",
    "          \"lines.linewidth\": 2,\n",
    "           \"axes.titlesize\":30}\n",
    "matplotlib.rcParams.update(params)"
   ]
  },
  {
   "cell_type": "code",
   "execution_count": 11,
   "metadata": {},
   "outputs": [],
   "source": [
    "config.update(\"jax_enable_x64\", True)"
   ]
  },
  {
   "cell_type": "code",
   "execution_count": 12,
   "metadata": {},
   "outputs": [],
   "source": [
    "path_pics = \"../pics/\""
   ]
  },
  {
   "cell_type": "code",
   "execution_count": 13,
   "metadata": {
    "scrolled": false
   },
   "outputs": [
    {
     "data": {
      "text/plain": [
       "array([0., 0.])"
      ]
     },
     "execution_count": 13,
     "metadata": {},
     "output_type": "execute_result"
    }
   ],
   "source": [
    "def f1(x, n):\n",
    "    G = 1/4*(1-x[0])**2\n",
    "    for i in range(n-1):\n",
    "        G += (x[i+1] - 2 * x[i]**2 +1)**2\n",
    "    return G.sum()\n",
    "gradf = jax.grad(f1, argnums=(0,), has_aux=False)\n",
    "jit_gradf = jax.jit(gradf)\n",
    "gradf = lambda x: np.hstack([np.array(i.block_until_ready()) for i in jit_gradf(x)])\n",
    "\n",
    "def get_params(n):\n",
    "    f = lambda x: f1(x, n)\n",
    "    gradf = jax.grad(f, argnums=(0,), has_aux=False)\n",
    "    jit_gradf = jax.jit(gradf)\n",
    "    gradf = lambda x: np.hstack([np.array(i.block_until_ready()) for i in jit_gradf(x)])\n",
    "    return gradf, f\n",
    "gradf, f = get_params(2)\n",
    "gradf(np.ones(2))"
   ]
  },
  {
   "cell_type": "markdown",
   "metadata": {},
   "source": [
    "## 1. Noise Distributed on the Unit Sphere\n",
    "\n",
    "The case when $\\xi \\sim \\mathcal{U}(S_1(0))$"
   ]
  },
  {
   "cell_type": "code",
   "execution_count": 14,
   "metadata": {
    "scrolled": false
   },
   "outputs": [
    {
     "name": "stdout",
     "output_type": "stream",
     "text": [
      "2\n",
      "3\n",
      "1.0 1.0\n",
      "1e-08\n",
      "\t0.0001\t14097\t230.58\t1.996432\t2.86\t1.9684320737595517e-05\n",
      "\n",
      "\n",
      "1e-06\n",
      "\t0.001\t2477\t247.64\t2.155393\t2.93\t0.0011440271087842604\n",
      "\n",
      "\n",
      "0.0001\n",
      "\t0.01\t606\t383.63\t2.650396\t2.19\t0.008707420773824113\n",
      "\n",
      "\n",
      "\n",
      "\n",
      "5\n",
      "1.0 1.0\n",
      "1e-08\n",
      "\t0.0001\t73028\t275.03\t2.929586\t2.93\t0.00029777167185981296\n",
      "\n",
      "\n",
      "1e-06\n",
      "\t0.001\t15765\t292.39\t3.312240\t2.65\t0.004901720123950618\n",
      "\n",
      "\n",
      "0.0001\n",
      "\t0.01\t6\t200.87\t0.035690\t1.45\t0.9830323827992175\n",
      "\n",
      "\n",
      "\n",
      "\n",
      "7\n",
      "1.0 1.0\n",
      "1e-08\n",
      "\t0.0001\t2898\t316.51\t0.049140\t2.69\t0.9830229434971105\n",
      "\n",
      "\n",
      "1e-06\n",
      "\t0.001\t103\t164.23\t0.035721\t2.07\t0.9830309297944305\n",
      "\n",
      "\n",
      "0.0001\n",
      "\t0.01\t17\t104.77\t0.035607\t1.42\t0.9830335184028157\n",
      "\n",
      "\n",
      "\n",
      "\n"
     ]
    }
   ],
   "source": [
    "eps_list = [1e-8, 1e-6, 1e-4]\n",
    "\n",
    "n = 1\n",
    "n_list = [3, 5, 7]\n",
    "\n",
    "res = {n:{\"delta\":[], \n",
    "           \"iters_adaptL\":[], \"time_adaptL\":[], \"adaptL,x0-x*\": [], \"normg_adaptL\": [],\n",
    "           \"iters_exact\":[], \"time_exact\":[], \"exact,x0-x*\": [], \"normg_exact\": [],\n",
    "          \"residual_adaptL\":[],\n",
    "          \"iters_adaptLdelta\":[], \"time_adaptLdelta\":[], \"adaptLdelta,x0-x*\": [], \"normg_adaptLdelta\": []} for n in n_list}\n",
    "mu_list = {}\n",
    "number = 10\n",
    "save_iter = 1\n",
    "N = 900000\n",
    "methods = []\n",
    "np.random.seed(1)\n",
    "print(2)\n",
    "for n in n_list:\n",
    "    print(n)\n",
    "    gradf, f = get_params(n)\n",
    "    w = np.ones(n)\n",
    "    w[0] *= -1\n",
    "    print(np.linalg.norm(gradf(w)), f(w))\n",
    "    for eps in eps_list:\n",
    "        mu = 1e-6\n",
    "        Delta = np.sqrt(eps)\n",
    "        f_inexact = lambda x: f(x) + eps * np.random.uniform(-1, 1)\n",
    "        res[n][\"delta\"].append(int(np.log10(Delta)))\n",
    "        tol = 2*Delta\n",
    "\n",
    "\n",
    "        grad_inexact = lambda w: gradf_inexact(w, gradf, Delta, 1)\n",
    "        print(eps)\n",
    "        method = GradientDescent(AdaptiveL(L0=1, Delta=Delta, Lmin=mu/4, delta=eps), name=\"GD, Delta={}\".format(Delta), save_iter=save_iter)\n",
    "        x = method.solve(w, f_inexact, grad_inexact, tol=tol, max_iter=N)\n",
    "        g = lambda: GradientDescent(AdaptiveL(L0=1, Delta=Delta, Lmin=mu/4),\n",
    "                                    return_history=False).solve(w, f_inexact, grad_inexact, tol=tol, max_iter=N)\n",
    "        if len(method.history) > 1000:\n",
    "            number = 1\n",
    "        else:\n",
    "            number = 10\n",
    "        T = timeit.timeit(g, number=number)/number        \n",
    "        print(\"\\t{}\\t{}\\t{:.2f}\\t{:.6f}\\t{:.2f}\\t{}\".format(Delta, len(method.history), T, np.linalg.norm(x-w), \n",
    "                                                np.linalg.norm(gradf(x))/Delta, f(x)))\n",
    "        methods.append(method)\n",
    "        res[n][\"iters_adaptL\"].append(len(method.history))\n",
    "        res[n][\"time_adaptL\"].append(\"{:.2f}\".format(T))\n",
    "        res[n][\"adaptL,x0-x*\"].append(\"{:.3f}\".format(np.linalg.norm(x-w)))\n",
    "        res[n][\"normg_adaptL\"].append(\"{:.2f}\".format(np.linalg.norm(gradf(x))/Delta))\n",
    "        res[n][\"residual_adaptL\"].append(f(x))\n",
    "        print(\"\\n\")\n",
    "    print(\"\\n\")"
   ]
  },
  {
   "cell_type": "code",
   "execution_count": 15,
   "metadata": {},
   "outputs": [
    {
     "name": "stdout",
     "output_type": "stream",
     "text": [
      "3 & \\begin{tabular}{@{}c@{}} $10^{-4}$ \\\\ $10^{-3}$ \\\\ $10^{-2}$ \\end{tabular}&\\begin{tabular}{@{}c@{}} $14097$ \\\\ $2477$ \\\\ $606$ \\end{tabular}&\\begin{tabular}{@{}c@{}} $230.58$ \\\\ $247.64$ \\\\ $383.63$ \\end{tabular}&\\begin{tabular}{@{}c@{}} $1.996$ \\\\ $2.155$ \\\\ $2.650$ \\end{tabular}&\\begin{tabular}{@{}c@{}} $2.86$ \\\\ $2.93$ \\\\ $2.19$ \\end{tabular}&\\begin{tabular}{@{}c@{}} $0.20 \\cdot 10^{-4}$ \\\\ $0.11 \\cdot 10^{-2}$ \\\\ $0.87 \\cdot 10^{-2}$ \\end{tabular}\\\\\n",
      "\\hline\n",
      "5 & \\begin{tabular}{@{}c@{}} $10^{-4}$ \\\\ $10^{-3}$ \\\\ $10^{-2}$ \\end{tabular}&\\begin{tabular}{@{}c@{}} $73028$ \\\\ $15765$ \\\\ $6$ \\end{tabular}&\\begin{tabular}{@{}c@{}} $275.03$ \\\\ $292.39$ \\\\ $200.87$ \\end{tabular}&\\begin{tabular}{@{}c@{}} $2.930$ \\\\ $3.312$ \\\\ $0.036$ \\end{tabular}&\\begin{tabular}{@{}c@{}} $2.93$ \\\\ $2.65$ \\\\ $1.45$ \\end{tabular}&\\begin{tabular}{@{}c@{}} $0.30 \\cdot 10^{-3}$ \\\\ $0.49 \\cdot 10^{-2}$ \\\\ $0.98$ \\end{tabular}\\\\\n",
      "\\hline\n",
      "7 & \\begin{tabular}{@{}c@{}} $10^{-4}$ \\\\ $10^{-3}$ \\\\ $10^{-2}$ \\end{tabular}&\\begin{tabular}{@{}c@{}} $2898$ \\\\ $103$ \\\\ $17$ \\end{tabular}&\\begin{tabular}{@{}c@{}} $316.51$ \\\\ $164.23$ \\\\ $104.77$ \\end{tabular}&\\begin{tabular}{@{}c@{}} $0.049$ \\\\ $0.036$ \\\\ $0.036$ \\end{tabular}&\\begin{tabular}{@{}c@{}} $2.69$ \\\\ $2.07$ \\\\ $1.42$ \\end{tabular}&\\begin{tabular}{@{}c@{}} $0.98$ \\\\ $0.98$ \\\\ $0.98$ \\end{tabular}\\\\\n",
      "\\hline\n",
      "\n"
     ]
    }
   ],
   "source": [
    "s = \"\"\n",
    "\n",
    "for d in n_list:\n",
    "    s += str(d) + \" & \"\n",
    "\n",
    "    cur_list = [\"$10^{{{}}}$\".format(i) for i in res[d][\"delta\"]]\n",
    "    s+= \"\\\\begin{tabular}{@{}c@{}} \" + \" \\\\\\\\ \".join(cur_list) + \" \\\\end{tabular}&\"\n",
    "\n",
    "    cur_list = [\"${}$\".format(i) for i in res[d][\"iters_adaptL\"]]\n",
    "    s+= \"\\\\begin{tabular}{@{}c@{}} \" + \" \\\\\\\\ \".join(cur_list) + \" \\\\end{tabular}&\"\n",
    "    cur_list = [\"${}$\".format(i) for i in res[d][\"time_adaptL\"]]\n",
    "    s+= \"\\\\begin{tabular}{@{}c@{}} \" + \" \\\\\\\\ \".join(cur_list) + \" \\\\end{tabular}&\"\n",
    "    \n",
    "    cur_list = [\"${}$\".format(i) for i in res[d][\"adaptL,x0-x*\"]]\n",
    "    s+= \"\\\\begin{tabular}{@{}c@{}} \" + \" \\\\\\\\ \".join(cur_list) + \" \\\\end{tabular}&\"\n",
    "    cur_list = [\"${}$\".format(i) for i in res[d][\"normg_adaptL\"]]\n",
    "    s+= \"\\\\begin{tabular}{@{}c@{}} \" + \" \\\\\\\\ \".join(cur_list) + \" \\\\end{tabular}&\"\n",
    "    \n",
    "    cur_list1 = [(i/10**(int(np.log10(i))), int(np.log10(i))) for i in res[d][\"residual_adaptL\"]]\n",
    "    cur_list = []\n",
    "    for a, b in cur_list1:\n",
    "        if b != 0:\n",
    "            cur_list.append(\"${:.2f} \\\\cdot 10^{{{}}}$\".format(a, b))\n",
    "        else:\n",
    "            cur_list.append(\"${:.2f}$\".format(a))\n",
    "\n",
    "    s+= \"\\\\begin{tabular}{@{}c@{}} \" + \" \\\\\\\\ \".join(cur_list) + \" \\\\end{tabular}\"\n",
    "\n",
    "    s+= \"\\\\\\\\\\n\\\\hline\\n\"\n",
    "print(s)"
   ]
  },
  {
   "cell_type": "code",
   "execution_count": 16,
   "metadata": {},
   "outputs": [
    {
     "data": {
      "text/plain": [
       "[0.9830229434971105, 0.9830309297944305, 0.9830335184028157]"
      ]
     },
     "execution_count": 16,
     "metadata": {},
     "output_type": "execute_result"
    }
   ],
   "source": [
    "res[d][\"residual_adaptL\"]"
   ]
  },
  {
   "cell_type": "code",
   "execution_count": null,
   "metadata": {},
   "outputs": [],
   "source": []
  }
 ],
 "metadata": {
  "anaconda-cloud": {},
  "kernelspec": {
   "display_name": "Python 3",
   "language": "python",
   "name": "python3"
  },
  "language_info": {
   "codemirror_mode": {
    "name": "ipython",
    "version": 3
   },
   "file_extension": ".py",
   "mimetype": "text/x-python",
   "name": "python",
   "nbconvert_exporter": "python",
   "pygments_lexer": "ipython3",
   "version": "3.7.3"
  }
 },
 "nbformat": 4,
 "nbformat_minor": 1
}
